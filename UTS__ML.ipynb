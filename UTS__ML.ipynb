{
  "nbformat": 4,
  "nbformat_minor": 0,
  "metadata": {
    "colab": {
      "provenance": [],
      "authorship_tag": "ABX9TyMO1ssA7szZhf1ZlY3C+ig4",
      "include_colab_link": true
    },
    "kernelspec": {
      "name": "python3",
      "display_name": "Python 3"
    },
    "language_info": {
      "name": "python"
    }
  },
  "cells": [
    {
      "cell_type": "markdown",
      "metadata": {
        "id": "view-in-github",
        "colab_type": "text"
      },
      "source": [
        "<a href=\"https://colab.research.google.com/github/trisskmasarahh/Machine-Learning_Ganjil_2025/blob/main/UTS__ML.ipynb\" target=\"_parent\"><img src=\"https://colab.research.google.com/assets/colab-badge.svg\" alt=\"Open In Colab\"/></a>"
      ]
    },
    {
      "cell_type": "markdown",
      "source": [
        "**NAMA : TRI SUKMA SARAH**\n",
        "\n",
        "**KELAS : 3 B**\n",
        "\n",
        "**ABSEN 26**"
      ],
      "metadata": {
        "id": "CXdX4qDnVSMM"
      }
    },
    {
      "cell_type": "markdown",
      "source": [
        "Deskripsi: Dataset ini berisi data perilaku pengguna kartu kredit. Gunakan untuk\n",
        "menemukan kelompok pelanggan berdasarkan pola penggunaan.\n",
        "\n",
        "Langkah tambahan:\n",
        "\n",
        "o Tangani missing values dan normalisasi fitur numerik.\n",
        "\n",
        "o Buat fitur baru seperti rasio antara BALANCE dan PURCHASES."
      ],
      "metadata": {
        "id": "MPp3t_IfXS0j"
      }
    },
    {
      "cell_type": "markdown",
      "source": [
        "# PENAMBAHAN LIBARRY"
      ],
      "metadata": {
        "id": "rxMWGpCLY1yt"
      }
    },
    {
      "cell_type": "code",
      "execution_count": null,
      "metadata": {
        "colab": {
          "base_uri": "https://localhost:8080/"
        },
        "id": "C9aT_amzUogJ",
        "outputId": "a055db4e-dd1f-4647-ad6d-90f7c069fceb"
      },
      "outputs": [
        {
          "output_type": "stream",
          "name": "stdout",
          "text": [
            "Collecting annoy\n",
            "  Downloading annoy-1.17.3.tar.gz (647 kB)\n",
            "\u001b[?25l     \u001b[90m━━━━━━━━━━━━━━━━━━━━━━━━━━━━━━━━━━━━━━━━\u001b[0m \u001b[32m0.0/647.5 kB\u001b[0m \u001b[31m?\u001b[0m eta \u001b[36m-:--:--\u001b[0m\r\u001b[2K     \u001b[91m━━━━━━━━━━━━━━━━━━━━━━━━\u001b[0m\u001b[91m╸\u001b[0m\u001b[90m━━━━━━━━━━━━━\u001b[0m \u001b[32m419.8/647.5 kB\u001b[0m \u001b[31m12.6 MB/s\u001b[0m eta \u001b[36m0:00:01\u001b[0m\r\u001b[2K     \u001b[90m━━━━━━━━━━━━━━━━━━━━━━━━━━━━━━━━━━━━━━\u001b[0m \u001b[32m647.5/647.5 kB\u001b[0m \u001b[31m10.9 MB/s\u001b[0m eta \u001b[36m0:00:00\u001b[0m\n",
            "\u001b[?25h  Preparing metadata (setup.py) ... \u001b[?25l\u001b[?25hdone\n",
            "Building wheels for collected packages: annoy\n",
            "  Building wheel for annoy (setup.py) ... \u001b[?25l\u001b[?25hdone\n",
            "  Created wheel for annoy: filename=annoy-1.17.3-cp312-cp312-linux_x86_64.whl size=551808 sha256=8a14af743afb5d7675e99e867216177e5bc400c3907e8e6d37e22077bbd0c5a0\n",
            "  Stored in directory: /root/.cache/pip/wheels/db/b9/53/a3b2d1fe1743abadddec6aa541294b24fdbc39d7800bc57311\n",
            "Successfully built annoy\n",
            "Installing collected packages: annoy\n",
            "Successfully installed annoy-1.17.3\n"
          ]
        }
      ],
      "source": [
        "!pip install annoy"
      ]
    },
    {
      "cell_type": "code",
      "source": [
        "import pandas as pd\n",
        "import numpy as np\n",
        "import matplotlib.pyplot as plt\n",
        "import seaborn as sns\n",
        "from sklearn.preprocessing import StandardScaler\n",
        "from sklearn.cluster import KMeans, DBSCAN\n",
        "from sklearn.decomposition import PCA\n",
        "from sklearn.metrics import silhouette_score, davies_bouldin_score\n",
        "from annoy import AnnoyIndex\n",
        "\n"
      ],
      "metadata": {
        "id": "TsFNNNFaaK_R"
      },
      "execution_count": null,
      "outputs": []
    },
    {
      "cell_type": "markdown",
      "source": [
        "# upload dataset ke collab (Tuliskan singkat tentang kondisi awal dataset dan kolom mana yang memiliki missing values)"
      ],
      "metadata": {
        "id": "t7bZh_uSbLkS"
      }
    },
    {
      "cell_type": "code",
      "source": [
        "from google.colab import drive\n",
        "drive.mount('/content/drive')\n",
        "\n",
        "df= pd.read_csv('/content/drive/MyDrive/Dataset_mesin/UCI_Credit_Card.csv')\n",
        "df.info()\n",
        "df.describe()\n",
        "df.head()"
      ],
      "metadata": {
        "colab": {
          "base_uri": "https://localhost:8080/",
          "height": 808
        },
        "id": "vUPLaO1RbYHn",
        "outputId": "0c074930-25e4-47bc-80c6-f4f82f126f77"
      },
      "execution_count": null,
      "outputs": [
        {
          "output_type": "stream",
          "name": "stdout",
          "text": [
            "Drive already mounted at /content/drive; to attempt to forcibly remount, call drive.mount(\"/content/drive\", force_remount=True).\n",
            "<class 'pandas.core.frame.DataFrame'>\n",
            "RangeIndex: 30000 entries, 0 to 29999\n",
            "Data columns (total 25 columns):\n",
            " #   Column                      Non-Null Count  Dtype  \n",
            "---  ------                      --------------  -----  \n",
            " 0   ID                          30000 non-null  int64  \n",
            " 1   LIMIT_BAL                   30000 non-null  float64\n",
            " 2   SEX                         30000 non-null  int64  \n",
            " 3   EDUCATION                   30000 non-null  int64  \n",
            " 4   MARRIAGE                    30000 non-null  int64  \n",
            " 5   AGE                         30000 non-null  int64  \n",
            " 6   PAY_0                       30000 non-null  int64  \n",
            " 7   PAY_2                       30000 non-null  int64  \n",
            " 8   PAY_3                       30000 non-null  int64  \n",
            " 9   PAY_4                       30000 non-null  int64  \n",
            " 10  PAY_5                       30000 non-null  int64  \n",
            " 11  PAY_6                       30000 non-null  int64  \n",
            " 12  BILL_AMT1                   30000 non-null  float64\n",
            " 13  BILL_AMT2                   30000 non-null  float64\n",
            " 14  BILL_AMT3                   30000 non-null  float64\n",
            " 15  BILL_AMT4                   30000 non-null  float64\n",
            " 16  BILL_AMT5                   30000 non-null  float64\n",
            " 17  BILL_AMT6                   30000 non-null  float64\n",
            " 18  PAY_AMT1                    30000 non-null  float64\n",
            " 19  PAY_AMT2                    30000 non-null  float64\n",
            " 20  PAY_AMT3                    30000 non-null  float64\n",
            " 21  PAY_AMT4                    30000 non-null  float64\n",
            " 22  PAY_AMT5                    30000 non-null  float64\n",
            " 23  PAY_AMT6                    30000 non-null  float64\n",
            " 24  default.payment.next.month  30000 non-null  int64  \n",
            "dtypes: float64(13), int64(12)\n",
            "memory usage: 5.7 MB\n"
          ]
        },
        {
          "output_type": "execute_result",
          "data": {
            "text/plain": [
              "   ID  LIMIT_BAL  SEX  EDUCATION  MARRIAGE  AGE  PAY_0  PAY_2  PAY_3  PAY_4  \\\n",
              "0   1    20000.0    2          2         1   24      2      2     -1     -1   \n",
              "1   2   120000.0    2          2         2   26     -1      2      0      0   \n",
              "2   3    90000.0    2          2         2   34      0      0      0      0   \n",
              "3   4    50000.0    2          2         1   37      0      0      0      0   \n",
              "4   5    50000.0    1          2         1   57     -1      0     -1      0   \n",
              "\n",
              "   ...  BILL_AMT4  BILL_AMT5  BILL_AMT6  PAY_AMT1  PAY_AMT2  PAY_AMT3  \\\n",
              "0  ...        0.0        0.0        0.0       0.0     689.0       0.0   \n",
              "1  ...     3272.0     3455.0     3261.0       0.0    1000.0    1000.0   \n",
              "2  ...    14331.0    14948.0    15549.0    1518.0    1500.0    1000.0   \n",
              "3  ...    28314.0    28959.0    29547.0    2000.0    2019.0    1200.0   \n",
              "4  ...    20940.0    19146.0    19131.0    2000.0   36681.0   10000.0   \n",
              "\n",
              "   PAY_AMT4  PAY_AMT5  PAY_AMT6  default.payment.next.month  \n",
              "0       0.0       0.0       0.0                           1  \n",
              "1    1000.0       0.0    2000.0                           1  \n",
              "2    1000.0    1000.0    5000.0                           0  \n",
              "3    1100.0    1069.0    1000.0                           0  \n",
              "4    9000.0     689.0     679.0                           0  \n",
              "\n",
              "[5 rows x 25 columns]"
            ],
            "text/html": [
              "\n",
              "  <div id=\"df-29e5ae01-f1c9-4fda-a21b-46a14bc8ffdb\" class=\"colab-df-container\">\n",
              "    <div>\n",
              "<style scoped>\n",
              "    .dataframe tbody tr th:only-of-type {\n",
              "        vertical-align: middle;\n",
              "    }\n",
              "\n",
              "    .dataframe tbody tr th {\n",
              "        vertical-align: top;\n",
              "    }\n",
              "\n",
              "    .dataframe thead th {\n",
              "        text-align: right;\n",
              "    }\n",
              "</style>\n",
              "<table border=\"1\" class=\"dataframe\">\n",
              "  <thead>\n",
              "    <tr style=\"text-align: right;\">\n",
              "      <th></th>\n",
              "      <th>ID</th>\n",
              "      <th>LIMIT_BAL</th>\n",
              "      <th>SEX</th>\n",
              "      <th>EDUCATION</th>\n",
              "      <th>MARRIAGE</th>\n",
              "      <th>AGE</th>\n",
              "      <th>PAY_0</th>\n",
              "      <th>PAY_2</th>\n",
              "      <th>PAY_3</th>\n",
              "      <th>PAY_4</th>\n",
              "      <th>...</th>\n",
              "      <th>BILL_AMT4</th>\n",
              "      <th>BILL_AMT5</th>\n",
              "      <th>BILL_AMT6</th>\n",
              "      <th>PAY_AMT1</th>\n",
              "      <th>PAY_AMT2</th>\n",
              "      <th>PAY_AMT3</th>\n",
              "      <th>PAY_AMT4</th>\n",
              "      <th>PAY_AMT5</th>\n",
              "      <th>PAY_AMT6</th>\n",
              "      <th>default.payment.next.month</th>\n",
              "    </tr>\n",
              "  </thead>\n",
              "  <tbody>\n",
              "    <tr>\n",
              "      <th>0</th>\n",
              "      <td>1</td>\n",
              "      <td>20000.0</td>\n",
              "      <td>2</td>\n",
              "      <td>2</td>\n",
              "      <td>1</td>\n",
              "      <td>24</td>\n",
              "      <td>2</td>\n",
              "      <td>2</td>\n",
              "      <td>-1</td>\n",
              "      <td>-1</td>\n",
              "      <td>...</td>\n",
              "      <td>0.0</td>\n",
              "      <td>0.0</td>\n",
              "      <td>0.0</td>\n",
              "      <td>0.0</td>\n",
              "      <td>689.0</td>\n",
              "      <td>0.0</td>\n",
              "      <td>0.0</td>\n",
              "      <td>0.0</td>\n",
              "      <td>0.0</td>\n",
              "      <td>1</td>\n",
              "    </tr>\n",
              "    <tr>\n",
              "      <th>1</th>\n",
              "      <td>2</td>\n",
              "      <td>120000.0</td>\n",
              "      <td>2</td>\n",
              "      <td>2</td>\n",
              "      <td>2</td>\n",
              "      <td>26</td>\n",
              "      <td>-1</td>\n",
              "      <td>2</td>\n",
              "      <td>0</td>\n",
              "      <td>0</td>\n",
              "      <td>...</td>\n",
              "      <td>3272.0</td>\n",
              "      <td>3455.0</td>\n",
              "      <td>3261.0</td>\n",
              "      <td>0.0</td>\n",
              "      <td>1000.0</td>\n",
              "      <td>1000.0</td>\n",
              "      <td>1000.0</td>\n",
              "      <td>0.0</td>\n",
              "      <td>2000.0</td>\n",
              "      <td>1</td>\n",
              "    </tr>\n",
              "    <tr>\n",
              "      <th>2</th>\n",
              "      <td>3</td>\n",
              "      <td>90000.0</td>\n",
              "      <td>2</td>\n",
              "      <td>2</td>\n",
              "      <td>2</td>\n",
              "      <td>34</td>\n",
              "      <td>0</td>\n",
              "      <td>0</td>\n",
              "      <td>0</td>\n",
              "      <td>0</td>\n",
              "      <td>...</td>\n",
              "      <td>14331.0</td>\n",
              "      <td>14948.0</td>\n",
              "      <td>15549.0</td>\n",
              "      <td>1518.0</td>\n",
              "      <td>1500.0</td>\n",
              "      <td>1000.0</td>\n",
              "      <td>1000.0</td>\n",
              "      <td>1000.0</td>\n",
              "      <td>5000.0</td>\n",
              "      <td>0</td>\n",
              "    </tr>\n",
              "    <tr>\n",
              "      <th>3</th>\n",
              "      <td>4</td>\n",
              "      <td>50000.0</td>\n",
              "      <td>2</td>\n",
              "      <td>2</td>\n",
              "      <td>1</td>\n",
              "      <td>37</td>\n",
              "      <td>0</td>\n",
              "      <td>0</td>\n",
              "      <td>0</td>\n",
              "      <td>0</td>\n",
              "      <td>...</td>\n",
              "      <td>28314.0</td>\n",
              "      <td>28959.0</td>\n",
              "      <td>29547.0</td>\n",
              "      <td>2000.0</td>\n",
              "      <td>2019.0</td>\n",
              "      <td>1200.0</td>\n",
              "      <td>1100.0</td>\n",
              "      <td>1069.0</td>\n",
              "      <td>1000.0</td>\n",
              "      <td>0</td>\n",
              "    </tr>\n",
              "    <tr>\n",
              "      <th>4</th>\n",
              "      <td>5</td>\n",
              "      <td>50000.0</td>\n",
              "      <td>1</td>\n",
              "      <td>2</td>\n",
              "      <td>1</td>\n",
              "      <td>57</td>\n",
              "      <td>-1</td>\n",
              "      <td>0</td>\n",
              "      <td>-1</td>\n",
              "      <td>0</td>\n",
              "      <td>...</td>\n",
              "      <td>20940.0</td>\n",
              "      <td>19146.0</td>\n",
              "      <td>19131.0</td>\n",
              "      <td>2000.0</td>\n",
              "      <td>36681.0</td>\n",
              "      <td>10000.0</td>\n",
              "      <td>9000.0</td>\n",
              "      <td>689.0</td>\n",
              "      <td>679.0</td>\n",
              "      <td>0</td>\n",
              "    </tr>\n",
              "  </tbody>\n",
              "</table>\n",
              "<p>5 rows × 25 columns</p>\n",
              "</div>\n",
              "    <div class=\"colab-df-buttons\">\n",
              "\n",
              "  <div class=\"colab-df-container\">\n",
              "    <button class=\"colab-df-convert\" onclick=\"convertToInteractive('df-29e5ae01-f1c9-4fda-a21b-46a14bc8ffdb')\"\n",
              "            title=\"Convert this dataframe to an interactive table.\"\n",
              "            style=\"display:none;\">\n",
              "\n",
              "  <svg xmlns=\"http://www.w3.org/2000/svg\" height=\"24px\" viewBox=\"0 -960 960 960\">\n",
              "    <path d=\"M120-120v-720h720v720H120Zm60-500h600v-160H180v160Zm220 220h160v-160H400v160Zm0 220h160v-160H400v160ZM180-400h160v-160H180v160Zm440 0h160v-160H620v160ZM180-180h160v-160H180v160Zm440 0h160v-160H620v160Z\"/>\n",
              "  </svg>\n",
              "    </button>\n",
              "\n",
              "  <style>\n",
              "    .colab-df-container {\n",
              "      display:flex;\n",
              "      gap: 12px;\n",
              "    }\n",
              "\n",
              "    .colab-df-convert {\n",
              "      background-color: #E8F0FE;\n",
              "      border: none;\n",
              "      border-radius: 50%;\n",
              "      cursor: pointer;\n",
              "      display: none;\n",
              "      fill: #1967D2;\n",
              "      height: 32px;\n",
              "      padding: 0 0 0 0;\n",
              "      width: 32px;\n",
              "    }\n",
              "\n",
              "    .colab-df-convert:hover {\n",
              "      background-color: #E2EBFA;\n",
              "      box-shadow: 0px 1px 2px rgba(60, 64, 67, 0.3), 0px 1px 3px 1px rgba(60, 64, 67, 0.15);\n",
              "      fill: #174EA6;\n",
              "    }\n",
              "\n",
              "    .colab-df-buttons div {\n",
              "      margin-bottom: 4px;\n",
              "    }\n",
              "\n",
              "    [theme=dark] .colab-df-convert {\n",
              "      background-color: #3B4455;\n",
              "      fill: #D2E3FC;\n",
              "    }\n",
              "\n",
              "    [theme=dark] .colab-df-convert:hover {\n",
              "      background-color: #434B5C;\n",
              "      box-shadow: 0px 1px 3px 1px rgba(0, 0, 0, 0.15);\n",
              "      filter: drop-shadow(0px 1px 2px rgba(0, 0, 0, 0.3));\n",
              "      fill: #FFFFFF;\n",
              "    }\n",
              "  </style>\n",
              "\n",
              "    <script>\n",
              "      const buttonEl =\n",
              "        document.querySelector('#df-29e5ae01-f1c9-4fda-a21b-46a14bc8ffdb button.colab-df-convert');\n",
              "      buttonEl.style.display =\n",
              "        google.colab.kernel.accessAllowed ? 'block' : 'none';\n",
              "\n",
              "      async function convertToInteractive(key) {\n",
              "        const element = document.querySelector('#df-29e5ae01-f1c9-4fda-a21b-46a14bc8ffdb');\n",
              "        const dataTable =\n",
              "          await google.colab.kernel.invokeFunction('convertToInteractive',\n",
              "                                                    [key], {});\n",
              "        if (!dataTable) return;\n",
              "\n",
              "        const docLinkHtml = 'Like what you see? Visit the ' +\n",
              "          '<a target=\"_blank\" href=https://colab.research.google.com/notebooks/data_table.ipynb>data table notebook</a>'\n",
              "          + ' to learn more about interactive tables.';\n",
              "        element.innerHTML = '';\n",
              "        dataTable['output_type'] = 'display_data';\n",
              "        await google.colab.output.renderOutput(dataTable, element);\n",
              "        const docLink = document.createElement('div');\n",
              "        docLink.innerHTML = docLinkHtml;\n",
              "        element.appendChild(docLink);\n",
              "      }\n",
              "    </script>\n",
              "  </div>\n",
              "\n",
              "\n",
              "    <div id=\"df-abb8e712-7367-48bf-ad0b-7af4dd2e98b7\">\n",
              "      <button class=\"colab-df-quickchart\" onclick=\"quickchart('df-abb8e712-7367-48bf-ad0b-7af4dd2e98b7')\"\n",
              "                title=\"Suggest charts\"\n",
              "                style=\"display:none;\">\n",
              "\n",
              "<svg xmlns=\"http://www.w3.org/2000/svg\" height=\"24px\"viewBox=\"0 0 24 24\"\n",
              "     width=\"24px\">\n",
              "    <g>\n",
              "        <path d=\"M19 3H5c-1.1 0-2 .9-2 2v14c0 1.1.9 2 2 2h14c1.1 0 2-.9 2-2V5c0-1.1-.9-2-2-2zM9 17H7v-7h2v7zm4 0h-2V7h2v10zm4 0h-2v-4h2v4z\"/>\n",
              "    </g>\n",
              "</svg>\n",
              "      </button>\n",
              "\n",
              "<style>\n",
              "  .colab-df-quickchart {\n",
              "      --bg-color: #E8F0FE;\n",
              "      --fill-color: #1967D2;\n",
              "      --hover-bg-color: #E2EBFA;\n",
              "      --hover-fill-color: #174EA6;\n",
              "      --disabled-fill-color: #AAA;\n",
              "      --disabled-bg-color: #DDD;\n",
              "  }\n",
              "\n",
              "  [theme=dark] .colab-df-quickchart {\n",
              "      --bg-color: #3B4455;\n",
              "      --fill-color: #D2E3FC;\n",
              "      --hover-bg-color: #434B5C;\n",
              "      --hover-fill-color: #FFFFFF;\n",
              "      --disabled-bg-color: #3B4455;\n",
              "      --disabled-fill-color: #666;\n",
              "  }\n",
              "\n",
              "  .colab-df-quickchart {\n",
              "    background-color: var(--bg-color);\n",
              "    border: none;\n",
              "    border-radius: 50%;\n",
              "    cursor: pointer;\n",
              "    display: none;\n",
              "    fill: var(--fill-color);\n",
              "    height: 32px;\n",
              "    padding: 0;\n",
              "    width: 32px;\n",
              "  }\n",
              "\n",
              "  .colab-df-quickchart:hover {\n",
              "    background-color: var(--hover-bg-color);\n",
              "    box-shadow: 0 1px 2px rgba(60, 64, 67, 0.3), 0 1px 3px 1px rgba(60, 64, 67, 0.15);\n",
              "    fill: var(--button-hover-fill-color);\n",
              "  }\n",
              "\n",
              "  .colab-df-quickchart-complete:disabled,\n",
              "  .colab-df-quickchart-complete:disabled:hover {\n",
              "    background-color: var(--disabled-bg-color);\n",
              "    fill: var(--disabled-fill-color);\n",
              "    box-shadow: none;\n",
              "  }\n",
              "\n",
              "  .colab-df-spinner {\n",
              "    border: 2px solid var(--fill-color);\n",
              "    border-color: transparent;\n",
              "    border-bottom-color: var(--fill-color);\n",
              "    animation:\n",
              "      spin 1s steps(1) infinite;\n",
              "  }\n",
              "\n",
              "  @keyframes spin {\n",
              "    0% {\n",
              "      border-color: transparent;\n",
              "      border-bottom-color: var(--fill-color);\n",
              "      border-left-color: var(--fill-color);\n",
              "    }\n",
              "    20% {\n",
              "      border-color: transparent;\n",
              "      border-left-color: var(--fill-color);\n",
              "      border-top-color: var(--fill-color);\n",
              "    }\n",
              "    30% {\n",
              "      border-color: transparent;\n",
              "      border-left-color: var(--fill-color);\n",
              "      border-top-color: var(--fill-color);\n",
              "      border-right-color: var(--fill-color);\n",
              "    }\n",
              "    40% {\n",
              "      border-color: transparent;\n",
              "      border-right-color: var(--fill-color);\n",
              "      border-top-color: var(--fill-color);\n",
              "    }\n",
              "    60% {\n",
              "      border-color: transparent;\n",
              "      border-right-color: var(--fill-color);\n",
              "    }\n",
              "    80% {\n",
              "      border-color: transparent;\n",
              "      border-right-color: var(--fill-color);\n",
              "      border-bottom-color: var(--fill-color);\n",
              "    }\n",
              "    90% {\n",
              "      border-color: transparent;\n",
              "      border-bottom-color: var(--fill-color);\n",
              "    }\n",
              "  }\n",
              "</style>\n",
              "\n",
              "      <script>\n",
              "        async function quickchart(key) {\n",
              "          const quickchartButtonEl =\n",
              "            document.querySelector('#' + key + ' button');\n",
              "          quickchartButtonEl.disabled = true;  // To prevent multiple clicks.\n",
              "          quickchartButtonEl.classList.add('colab-df-spinner');\n",
              "          try {\n",
              "            const charts = await google.colab.kernel.invokeFunction(\n",
              "                'suggestCharts', [key], {});\n",
              "          } catch (error) {\n",
              "            console.error('Error during call to suggestCharts:', error);\n",
              "          }\n",
              "          quickchartButtonEl.classList.remove('colab-df-spinner');\n",
              "          quickchartButtonEl.classList.add('colab-df-quickchart-complete');\n",
              "        }\n",
              "        (() => {\n",
              "          let quickchartButtonEl =\n",
              "            document.querySelector('#df-abb8e712-7367-48bf-ad0b-7af4dd2e98b7 button');\n",
              "          quickchartButtonEl.style.display =\n",
              "            google.colab.kernel.accessAllowed ? 'block' : 'none';\n",
              "        })();\n",
              "      </script>\n",
              "    </div>\n",
              "\n",
              "    </div>\n",
              "  </div>\n"
            ],
            "application/vnd.google.colaboratory.intrinsic+json": {
              "type": "dataframe",
              "variable_name": "df"
            }
          },
          "metadata": {},
          "execution_count": 7
        }
      ]
    },
    {
      "cell_type": "markdown",
      "source": [
        "# Pengecekan missing value"
      ],
      "metadata": {
        "id": "lZdiHv54pXFU"
      }
    },
    {
      "cell_type": "code",
      "source": [
        "# Cek missing values\n",
        "print(df.isnull().sum())\n",
        "\n",
        "# Imputasi dengan mean untuk numerik\n",
        "df.fillna(df.mean(), inplace=True)\n"
      ],
      "metadata": {
        "colab": {
          "base_uri": "https://localhost:8080/"
        },
        "id": "MlzMXXp4pZ1H",
        "outputId": "f5dfe458-f034-42f7-e864-dc040869a9ac"
      },
      "execution_count": null,
      "outputs": [
        {
          "output_type": "stream",
          "name": "stdout",
          "text": [
            "ID                            0\n",
            "LIMIT_BAL                     0\n",
            "SEX                           0\n",
            "EDUCATION                     0\n",
            "MARRIAGE                      0\n",
            "AGE                           0\n",
            "PAY_0                         0\n",
            "PAY_2                         0\n",
            "PAY_3                         0\n",
            "PAY_4                         0\n",
            "PAY_5                         0\n",
            "PAY_6                         0\n",
            "BILL_AMT1                     0\n",
            "BILL_AMT2                     0\n",
            "BILL_AMT3                     0\n",
            "BILL_AMT4                     0\n",
            "BILL_AMT5                     0\n",
            "BILL_AMT6                     0\n",
            "PAY_AMT1                      0\n",
            "PAY_AMT2                      0\n",
            "PAY_AMT3                      0\n",
            "PAY_AMT4                      0\n",
            "PAY_AMT5                      0\n",
            "PAY_AMT6                      0\n",
            "default.payment.next.month    0\n",
            "dtype: int64\n"
          ]
        }
      ]
    },
    {
      "cell_type": "markdown",
      "source": [
        "Tidak ada data yang memiliki missing value karna semua data memiliki nilai numerik"
      ],
      "metadata": {
        "id": "C8WxImA0pvEU"
      }
    },
    {
      "cell_type": "markdown",
      "source": [
        "# membuat fitur baru"
      ],
      "metadata": {
        "id": "JyP2WdO1p4zJ"
      }
    },
    {
      "cell_type": "code",
      "source": [
        "# === Buat fitur baru: rasio tagihan terhadap pembayaran ===\n",
        "# Gunakan kolom BILL_AMT1 (tagihan bulan 1) dan PAY_AMT1 (pembayaran bulan 1)\n",
        "\n",
        "df['Bill_Payment_Ratio'] = df['BILL_AMT1'] / (df['PAY_AMT1'] + 1e-5)\n",
        "print(\"Fitur baru 'Bill_Payment_Ratio' berhasil dibuat!\")\n"
      ],
      "metadata": {
        "colab": {
          "base_uri": "https://localhost:8080/"
        },
        "id": "Mu8wTDDTp0GF",
        "outputId": "db6f7e13-f182-4cd3-ea6c-26de6226247a"
      },
      "execution_count": null,
      "outputs": [
        {
          "output_type": "stream",
          "name": "stdout",
          "text": [
            "Fitur baru 'Bill_Payment_Ratio' berhasil dibuat!\n"
          ]
        }
      ]
    },
    {
      "cell_type": "markdown",
      "source": [
        "dengan membuat fitur baru bernama bill_payment_ratio , di amana fitur ini dihitung dari rasio tagihan bulan 1 (bill_amt1)terhadap pembayarab bulan 1 (pay_amt1), dimana ditambhkan konstanta kecil pada pembagi (pay_amt1)untuk mencegah terjadinya pembagian dengan nol."
      ],
      "metadata": {
        "id": "nGVqadLk2Qw0"
      }
    },
    {
      "cell_type": "markdown",
      "source": [
        "# pengecekan kolom apakah sudah berhasil di tambhkan atau tidak"
      ],
      "metadata": {
        "id": "TWA849Qp7QKd"
      }
    },
    {
      "cell_type": "code",
      "source": [
        "df.columns\n"
      ],
      "metadata": {
        "colab": {
          "base_uri": "https://localhost:8080/"
        },
        "id": "wjzI96Gr7NXx",
        "outputId": "fc546c3c-0951-4c1e-89cb-febe3bbd0d83"
      },
      "execution_count": null,
      "outputs": [
        {
          "output_type": "execute_result",
          "data": {
            "text/plain": [
              "Index(['ID', 'LIMIT_BAL', 'SEX', 'EDUCATION', 'MARRIAGE', 'AGE', 'PAY_0',\n",
              "       'PAY_2', 'PAY_3', 'PAY_4', 'PAY_5', 'PAY_6', 'BILL_AMT1', 'BILL_AMT2',\n",
              "       'BILL_AMT3', 'BILL_AMT4', 'BILL_AMT5', 'BILL_AMT6', 'PAY_AMT1',\n",
              "       'PAY_AMT2', 'PAY_AMT3', 'PAY_AMT4', 'PAY_AMT5', 'PAY_AMT6',\n",
              "       'default.payment.next.month', 'Bill_Payment_Ratio'],\n",
              "      dtype='object')"
            ]
          },
          "metadata": {},
          "execution_count": 19
        }
      ]
    },
    {
      "cell_type": "markdown",
      "source": [
        "Dengan menggunakan atribut df.colums, pengecekan dilakaukan untuk mem"
      ],
      "metadata": {
        "id": "J4w8m6RW2_aK"
      }
    },
    {
      "cell_type": "markdown",
      "source": [
        "# Normalisasi (Standarisasi Data)"
      ],
      "metadata": {
        "id": "HzIkoMIquVEo"
      }
    },
    {
      "cell_type": "code",
      "source": [
        "# Pilih fitur numerik saja\n",
        "num_df = df.select_dtypes(include=['float64','int64'])\n",
        "\n",
        "# Normalisasi menggunakan StandardScaler\n",
        "from sklearn.preprocessing import StandardScaler\n",
        "scaler = StandardScaler()\n",
        "X_scaled = scaler.fit_transform(num_df)\n",
        "\n",
        "print(\"Ukuran data setelah normalisasi:\", X_scaled.shape)\n"
      ],
      "metadata": {
        "colab": {
          "base_uri": "https://localhost:8080/"
        },
        "id": "Od-yso4huR3m",
        "outputId": "83774c96-306e-47a5-cecf-b93a5a38d40c"
      },
      "execution_count": null,
      "outputs": [
        {
          "output_type": "stream",
          "name": "stdout",
          "text": [
            "Ukuran data setelah normalisasi: (30000, 26)\n"
          ]
        }
      ]
    },
    {
      "cell_type": "markdown",
      "source": [
        "# Clustering"
      ],
      "metadata": {
        "id": "Uy8cpZMNwekl"
      }
    },
    {
      "cell_type": "markdown",
      "source": [
        "a. K-Means"
      ],
      "metadata": {
        "id": "Z1rcvpxZwwIf"
      }
    },
    {
      "cell_type": "code",
      "source": [
        "from sklearn.cluster import KMeans\n",
        "\n",
        "kmeans = KMeans(n_clusters=3, random_state=42)\n",
        "labels_kmeans = kmeans.fit_predict(X_scaled)\n",
        "\n",
        "# Tambahkan baris ini untuk melihat hasil\n",
        "print(\"Label cluster hasil K-Means:\")\n",
        "print(labels_kmeans[:20])  # tampilkan 20 data pertama sebagai contoh\n",
        "print(\"\\nJumlah data di tiap cluster:\")\n",
        "print(pd.Series(labels_kmeans).value_counts())\n"
      ],
      "metadata": {
        "colab": {
          "base_uri": "https://localhost:8080/"
        },
        "id": "cllMUpMgucB5",
        "outputId": "e00f9c53-44c9-4452-ed39-10b073fa3618"
      },
      "execution_count": null,
      "outputs": [
        {
          "output_type": "stream",
          "name": "stdout",
          "text": [
            "Label cluster hasil K-Means:\n",
            "[1 1 1 1 1 1 0 2 1 2 1 2 2 1 1 1 1 0 2 2]\n",
            "\n",
            "Jumlah data di tiap cluster:\n",
            "1    15861\n",
            "2    10569\n",
            "0     3570\n",
            "Name: count, dtype: int64\n"
          ]
        }
      ]
    },
    {
      "cell_type": "markdown",
      "source": [
        "b. DBSCAN"
      ],
      "metadata": {
        "id": "XBHwA66-wyqr"
      }
    },
    {
      "cell_type": "code",
      "source": [
        "from sklearn.cluster import DBSCAN\n",
        "\n",
        "dbscan = DBSCAN(eps=1.5, min_samples=5)\n",
        "labels_dbscan = dbscan.fit_predict(X_scaled)\n",
        "\n",
        "# Tampilkan hasil cluster DBSCAN\n",
        "print(\"Label cluster hasil DBSCAN:\")\n",
        "print(labels_dbscan[:30])  # tampilkan 30 data pertama\n",
        "print(\"\\nJumlah data di tiap cluster:\")\n",
        "print(pd.Series(labels_dbscan).value_counts())\n"
      ],
      "metadata": {
        "colab": {
          "base_uri": "https://localhost:8080/"
        },
        "id": "i5GOICJhuij9",
        "outputId": "3a22a4d4-7119-4c1e-be06-9a6fd75dcc15"
      },
      "execution_count": null,
      "outputs": [
        {
          "output_type": "stream",
          "name": "stdout",
          "text": [
            "Label cluster hasil DBSCAN:\n",
            "[-1 -1  0  1 -1  2 -1  0 -1 -1 -1 -1 -1 -1  2 -1 -1 -1  1  0 -1  3 76 -1\n",
            "  2  2 -1  0 -1  2]\n",
            "\n",
            "Jumlah data di tiap cluster:\n",
            "-1      12128\n",
            " 0       4705\n",
            " 1       3977\n",
            " 2       2829\n",
            " 5       1983\n",
            "        ...  \n",
            " 121        5\n",
            " 136        5\n",
            " 135        5\n",
            " 83         4\n",
            " 110        3\n",
            "Name: count, Length: 143, dtype: int64\n"
          ]
        }
      ]
    },
    {
      "cell_type": "markdown",
      "source": [
        "# Evaluasi Clustering"
      ],
      "metadata": {
        "id": "zipns18tw2QH"
      }
    },
    {
      "cell_type": "code",
      "source": [
        "from sklearn.metrics import silhouette_score, davies_bouldin_score\n",
        "\n",
        "print(\"=== Evaluasi Clustering ===\")\n",
        "print(\"KMeans Silhouette Score:\", silhouette_score(X_scaled, labels_kmeans))\n",
        "print(\"KMeans Davies–Bouldin Index:\", davies_bouldin_score(X_scaled, labels_kmeans))\n",
        "\n",
        "if len(set(labels_dbscan)) > 1:\n",
        "    print(\"DBSCAN Silhouette Score:\", silhouette_score(X_scaled, labels_dbscan))\n",
        "    print(\"DBSCAN Davies–Bouldin Index:\", davies_bouldin_score(X_scaled, labels_dbscan))\n",
        "else:\n",
        "    print(\"DBSCAN gagal membentuk cluster (semua dianggap noise)\")\n"
      ],
      "metadata": {
        "colab": {
          "base_uri": "https://localhost:8080/"
        },
        "id": "zPLaS_wjuo-C",
        "outputId": "37085f6a-beb9-419e-acbd-e1d7dcb005a5"
      },
      "execution_count": null,
      "outputs": [
        {
          "output_type": "stream",
          "name": "stdout",
          "text": [
            "=== Evaluasi Clustering ===\n",
            "KMeans Silhouette Score: 0.15611493236546403\n",
            "KMeans Davies–Bouldin Index: 1.8386896479741057\n",
            "DBSCAN Silhouette Score: -0.2772111724353092\n",
            "DBSCAN Davies–Bouldin Index: 1.836683813642679\n"
          ]
        }
      ]
    },
    {
      "cell_type": "markdown",
      "source": [
        "# Visualisasi 2D (PCA)"
      ],
      "metadata": {
        "id": "lA0x193uw7jt"
      }
    },
    {
      "cell_type": "code",
      "source": [
        "from sklearn.decomposition import PCA\n",
        "import matplotlib.pyplot as plt\n",
        "\n",
        "pca = PCA(n_components=2)\n",
        "X_pca = pca.fit_transform(X_scaled)\n",
        "\n",
        "# Visualisasi KMeans\n",
        "plt.figure(figsize=(6,5))\n",
        "plt.scatter(X_pca[:,0], X_pca[:,1], c=labels_kmeans, cmap='viridis')\n",
        "plt.title(\"Visualisasi KMeans (PCA 2D)\")\n",
        "plt.xlabel(\"PCA 1\")\n",
        "plt.ylabel(\"PCA 2\")\n",
        "plt.show()\n",
        "\n",
        "# Visualisasi DBSCAN\n",
        "plt.figure(figsize=(6,5))\n",
        "plt.scatter(X_pca[:,0], X_pca[:,1], c=labels_dbscan, cmap='plasma')\n",
        "plt.title(\"Visualisasi DBSCAN (PCA 2D)\")\n",
        "plt.xlabel(\"PCA 1\")\n",
        "plt.ylabel(\"PCA 2\")\n",
        "plt.show()\n"
      ],
      "metadata": {
        "colab": {
          "base_uri": "https://localhost:8080/",
          "height": 957
        },
        "id": "8E4Y1RFBu3fz",
        "outputId": "baa34171-3f31-4814-9ef7-c7d08906f5e5"
      },
      "execution_count": null,
      "outputs": [
        {
          "output_type": "display_data",
          "data": {
            "text/plain": [
              "<Figure size 600x500 with 1 Axes>"
            ],
            "image/png": "[encoded data removed]"
          },
          "metadata": {}
        },
        {
          "output_type": "display_data",
          "data": {
            "text/plain": [
              "<Figure size 600x500 with 1 Axes>"
            ],
            "image/png": "[encoded data removed]"
          },
          "metadata": {}
        }
      ]
    },
    {
      "cell_type": "markdown",
      "source": [
        "penjelasan k means:\n",
        "Kalster ungu tua : menandakan kelompok data terbesar dan memiliki penyebarab paling luas, mencakup sebagian besar data dengan klaster lainnya.\n",
        "\n",
        "klaster hijau Tosaka : kelompok ini menunjukkan klaster yang cukup terpisah, dimana untuk mengidentifikasi bahwa ada sekolompok nasabah yang memiliki karakteristik yang jelas berbeda dan terpusat\n",
        "\n",
        "klaster kuning : menunjukan klates terkecil yang paling terpisah . dimana kelompok ini mewakiki sekolompok kecil nasabah yang karkteristiknya paling ekstrem atau unik dibandingkan dengan kalster lainnya .\n",
        "\n",
        "DBSCAN : Warna gelap yang dominan ini mewakili klaster noise . visualisasi ini memperkuat hasil evalusi yang mengidentifikasikan DBSCAN tidak evaluasi yang mengidentifikasi DBSCAN tidak efektif memisahkan data dalam representasi."
      ],
      "metadata": {
        "id": "75zwgFC1zDep"
      }
    },
    {
      "cell_type": "markdown",
      "source": [
        "# Approximate Nearest Neighbor (ANN)"
      ],
      "metadata": {
        "id": "BgrTqTpkxBiQ"
      }
    },
    {
      "cell_type": "code",
      "source": [
        "from annoy import AnnoyIndex\n",
        "\n",
        "dim = X_scaled.shape[1]\n",
        "ann = AnnoyIndex(dim, 'euclidean')\n",
        "\n",
        "# Masukkan semua data\n",
        "for i in range(len(X_scaled)):\n",
        "    ann.add_item(i, X_scaled[i])\n",
        "\n",
        "ann.build(10)  # bangun 10 pohon\n",
        "\n",
        "# Pilih beberapa query point\n",
        "query_points = [10, 100, 500, 1000, 1500]\n",
        "\n",
        "# Temukan tetangga terdekat\n",
        "for q in query_points:\n",
        "    neighbors, distances = ann.get_nns_by_item(q, 5, include_distances=True)\n",
        "    print(f\"\\nQuery Index: {q}\")\n",
        "    for n, d in zip(neighbors, distances):\n",
        "        print(f\"Neighbor Index: {n} | Distance: {d:.4f} | Cluster(KMeans): {labels_kmeans[n]}\")\n"
      ],
      "metadata": {
        "colab": {
          "base_uri": "https://localhost:8080/"
        },
        "id": "J8xPnWzyvJOQ",
        "outputId": "f050b39c-5275-43fd-f881-1e59175e386a"
      },
      "execution_count": null,
      "outputs": [
        {
          "output_type": "stream",
          "name": "stdout",
          "text": [
            "\n",
            "Query Index: 10\n",
            "Neighbor Index: 10 | Distance: 0.0000 | Cluster(KMeans): 1\n",
            "Neighbor Index: 5405 | Distance: 1.4149 | Cluster(KMeans): 1\n",
            "Neighbor Index: 2899 | Distance: 1.9677 | Cluster(KMeans): 1\n",
            "Neighbor Index: 5918 | Distance: 2.0945 | Cluster(KMeans): 2\n",
            "Neighbor Index: 12881 | Distance: 2.1393 | Cluster(KMeans): 1\n",
            "\n",
            "Query Index: 100\n",
            "Neighbor Index: 100 | Distance: 0.0000 | Cluster(KMeans): 2\n",
            "Neighbor Index: 1330 | Distance: 0.7917 | Cluster(KMeans): 2\n",
            "Neighbor Index: 895 | Distance: 0.7979 | Cluster(KMeans): 2\n",
            "Neighbor Index: 479 | Distance: 0.7999 | Cluster(KMeans): 2\n",
            "Neighbor Index: 3196 | Distance: 0.8310 | Cluster(KMeans): 2\n",
            "\n",
            "Query Index: 500\n",
            "Neighbor Index: 500 | Distance: 0.0000 | Cluster(KMeans): 1\n",
            "Neighbor Index: 4357 | Distance: 0.7705 | Cluster(KMeans): 1\n",
            "Neighbor Index: 10148 | Distance: 1.7627 | Cluster(KMeans): 1\n",
            "Neighbor Index: 2810 | Distance: 1.9390 | Cluster(KMeans): 1\n",
            "Neighbor Index: 7275 | Distance: 2.0085 | Cluster(KMeans): 1\n",
            "\n",
            "Query Index: 1000\n",
            "Neighbor Index: 1000 | Distance: 0.0000 | Cluster(KMeans): 1\n",
            "Neighbor Index: 24715 | Distance: 3.1197 | Cluster(KMeans): 1\n",
            "Neighbor Index: 4318 | Distance: 3.1556 | Cluster(KMeans): 1\n",
            "Neighbor Index: 7871 | Distance: 3.3485 | Cluster(KMeans): 1\n",
            "Neighbor Index: 8204 | Distance: 3.5019 | Cluster(KMeans): 1\n",
            "\n",
            "Query Index: 1500\n",
            "Neighbor Index: 1500 | Distance: 0.0000 | Cluster(KMeans): 1\n",
            "Neighbor Index: 289 | Distance: 0.6059 | Cluster(KMeans): 1\n",
            "Neighbor Index: 2020 | Distance: 0.7327 | Cluster(KMeans): 1\n",
            "Neighbor Index: 1504 | Distance: 0.8200 | Cluster(KMeans): 1\n",
            "Neighbor Index: 5430 | Distance: 0.8220 | Cluster(KMeans): 1\n"
          ]
        }
      ]
    },
    {
      "cell_type": "markdown",
      "source": [
        "menampilkan Indeks Tetangga, Jarak Euclidean antara tetangga dan titik kueri, serta Klaster K-Means dari masing-masing tetangga, yang bertujuan untuk memverifikasi bahwa tetangga terdekat cenderung berasal dari klaster yang sama."
      ],
      "metadata": {
        "id": "R5pw1kAA1kx8"
      }
    }
  ]
}