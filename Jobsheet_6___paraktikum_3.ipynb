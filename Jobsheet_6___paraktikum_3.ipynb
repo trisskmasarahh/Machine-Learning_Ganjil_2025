{
  "nbformat": 4,
  "nbformat_minor": 0,
  "metadata": {
    "colab": {
      "provenance": [],
      "authorship_tag": "ABX9TyML2ArcKDguGmN88U2DpU94",
      "include_colab_link": true
    },
    "kernelspec": {
      "name": "python3",
      "display_name": "Python 3"
    },
    "language_info": {
      "name": "python"
    }
  },
  "cells": [
    {
      "cell_type": "markdown",
      "metadata": {
        "id": "view-in-github",
        "colab_type": "text"
      },
      "source": [
        "<a href=\"https://colab.research.google.com/github/trisskmasarahh/Machine-Learning_Ganjil_2025/blob/main/Jobsheet_6___paraktikum_3.ipynb\" target=\"_parent\"><img src=\"https://colab.research.google.com/assets/colab-badge.svg\" alt=\"Open In Colab\"/></a>"
      ]
    },
    {
      "cell_type": "markdown",
      "source": [
        "**TRI SUKMA SARAH**\n",
        "\n",
        "**2341720051**\n",
        "\n",
        "**3B**"
      ],
      "metadata": {
        "id": "GF5FFhmDqNeJ"
      }
    },
    {
      "cell_type": "code",
      "execution_count": null,
      "metadata": {
        "colab": {
          "base_uri": "https://localhost:8080/"
        },
        "id": "XjLEwlExxcIO",
        "outputId": "2332a181-0a22-49b4-8473-d9ad32f445dc"
      },
      "outputs": [
        {
          "output_type": "stream",
          "name": "stdout",
          "text": [
            "Collecting hnswlib\n",
            "  Downloading hnswlib-0.8.0.tar.gz (36 kB)\n",
            "  Installing build dependencies ... \u001b[?25l\u001b[?25hdone\n",
            "  Getting requirements to build wheel ... \u001b[?25l\u001b[?25hdone\n",
            "  Preparing metadata (pyproject.toml) ... \u001b[?25l\u001b[?25hdone\n",
            "Requirement already satisfied: numpy in /usr/local/lib/python3.12/dist-packages (from hnswlib) (2.0.2)\n",
            "Building wheels for collected packages: hnswlib\n",
            "  Building wheel for hnswlib (pyproject.toml) ... \u001b[?25l\u001b[?25hdone\n",
            "  Created wheel for hnswlib: filename=hnswlib-0.8.0-cp312-cp312-linux_x86_64.whl size=2528147 sha256=deb2e7b12f2e4a5dac931ac01e40f6d6534334f9cc9fbbf5fc73c47f2b248d9b\n",
            "  Stored in directory: /root/.cache/pip/wheels/ac/39/b3/cbd7f9cbb76501d2d5fbc84956e70d0b94e788aac87bda465e\n",
            "Successfully built hnswlib\n",
            "Installing collected packages: hnswlib\n",
            "Successfully installed hnswlib-0.8.0\n"
          ]
        }
      ],
      "source": [
        "!pip install hnswlib"
      ]
    },
    {
      "cell_type": "code",
      "source": [
        "import hnswlib\n",
        "import numpy as np\n",
        "import time\n",
        "from sklearn.neighbors import NearestNeighbors\n",
        "\n",
        "# ===========================\n",
        "# 1. Buat data 2D acak\n",
        "# ===========================\n",
        "num_elements = 1000\n",
        "dim = 2\n",
        "data = np.random.random((num_elements, dim)).astype(np.float32)\n",
        "\n",
        "# Query point\n",
        "query = np.array([[0.5, 0.5]], dtype=np.float32)\n",
        "k = 5  # cari 5 tetangga terdekat\n",
        "\n",
        "# ===========================\n",
        "# 2. Exact NN (Brute Force)\n",
        "# ===========================\n",
        "nn = NearestNeighbors(n_neighbors=k, algorithm='brute', metric='euclidean')\n",
        "nn.fit(data)\n",
        "\n",
        "start = time.time()\n",
        "distances, indices = nn.kneighbors(query)\n",
        "end = time.time()\n",
        "\n",
        "print(\"=== Exact NN ===\")\n",
        "print(\"Indices:\", indices)\n",
        "print(\"Distances:\", distances)\n",
        "print(\"Waktu:\", end - start, \"detik\")\n",
        "\n",
        "# ===========================\n",
        "# 3. HNSW\n",
        "# ===========================\n",
        "# Inisialisasi index HNSW\n",
        "p = hnswlib.Index(space='l2', dim=dim)\n",
        "\n",
        "# Ukuran maksimum elemen yang bisa ditampung\n",
        "p.init_index(max_elements=num_elements, ef_construction=100, M=16)\n",
        "\n",
        "# Tambahkan data\n",
        "p.add_items(data)\n",
        "\n",
        "# Set parameter pencarian\n",
        "p.set_ef(50)   # tradeoff speed vs accuracy\n",
        "\n",
        "start = time.time()\n",
        "labels, distances = p.knn_query(query, k=k)\n",
        "end = time.time()\n",
        "\n",
        "print(\"\\n=== HNSW ===\")\n",
        "print(\"Indices:\", labels)\n",
        "print(\"Distances:\", distances)\n",
        "print(\"Waktu:\", end - start, \"detik\")\n"
      ],
      "metadata": {
        "colab": {
          "base_uri": "https://localhost:8080/"
        },
        "id": "9LeMn0Tuxj9y",
        "outputId": "6f501922-c86e-44a8-b640-87b76f6788e6"
      },
      "execution_count": null,
      "outputs": [
        {
          "output_type": "stream",
          "name": "stdout",
          "text": [
            "=== Exact NN ===\n",
            "Indices: [[173 466 844 221 469]]\n",
            "Distances: [[0.01403418 0.01631347 0.02399081 0.03256728 0.03834463]]\n",
            "Waktu: 0.04206228256225586 detik\n",
            "\n",
            "=== HNSW ===\n",
            "Indices: [[173 466 844 221 469]]\n",
            "Distances: [[0.00019696 0.00026613 0.00057556 0.00106063 0.00147031]]\n",
            "Waktu: 0.00022721290588378906 detik\n"
          ]
        }
      ]
    },
    {
      "cell_type": "markdown",
      "source": [
        "Lakukan percobaan pada metric distance yang berbeda, 1000 vs 1jt data, 2D vs 5D data."
      ],
      "metadata": {
        "id": "s_RBSGecxulR"
      }
    },
    {
      "cell_type": "markdown",
      "source": [
        "a. Distance Metrics : Euclidean\n",
        "\n",
        "Dimenasi : 2D\n",
        "\n",
        "Jumlah Data : 1000\n",
        "\n",
        "\n",
        "\n"
      ],
      "metadata": {
        "id": "burRCrh4FCTO"
      }
    },
    {
      "cell_type": "code",
      "source": [
        "import hnswlib\n",
        "import numpy as np\n",
        "import time\n",
        "from sklearn.neighbors import NearestNeighbors\n",
        "\n",
        "# ===========================\n",
        "# 1. Buat data 2D acak\n",
        "# ===========================\n",
        "num_elements = 1000\n",
        "dim = 2\n",
        "data = np.random.random((num_elements, dim)).astype(np.float32)\n",
        "\n",
        "# Query point\n",
        "query = np.array([[0.5, 0.5]], dtype=np.float32)\n",
        "k = 5  # cari 5 tetangga terdekat\n",
        "\n",
        "# ===========================\n",
        "# 2. Exact NN (Brute Force)\n",
        "# ===========================\n",
        "nn = NearestNeighbors(n_neighbors=k, algorithm='brute', metric='euclidean')\n",
        "nn.fit(data)\n",
        "\n",
        "start = time.time()\n",
        "distances, indices = nn.kneighbors(query)\n",
        "end = time.time()\n",
        "\n",
        "print(\"=== Exact NN ===\")\n",
        "print(\"Indices:\", indices)\n",
        "print(\"Distances:\", distances)\n",
        "print(\"Waktu:\", end - start, \"detik\")\n",
        "\n",
        "# ===========================\n",
        "# 3. HNSW\n",
        "# ===========================\n",
        "# Inisialisasi index HNSW\n",
        "p = hnswlib.Index(space='l2', dim=dim)\n",
        "\n",
        "# Ukuran maksimum elemen yang bisa ditampung\n",
        "p.init_index(max_elements=num_elements, ef_construction=100, M=16)\n",
        "\n",
        "# Tambahkan data\n",
        "p.add_items(data)\n",
        "\n",
        "# Set parameter pencarian\n",
        "p.set_ef(50)   # tradeoff speed vs accuracy\n",
        "\n",
        "start = time.time()\n",
        "labels, distances = p.knn_query(query, k=k)\n",
        "end = time.time()\n",
        "\n",
        "print(\"\\n=== HNSW ===\")\n",
        "print(\"Indices:\", labels)\n",
        "print(\"Distances:\", distances)\n",
        "print(\"Waktu:\", end - start, \"detik\")\n"
      ],
      "metadata": {
        "id": "Ze_qiAVmxwKw",
        "colab": {
          "base_uri": "https://localhost:8080/"
        },
        "outputId": "c2a5198c-a008-42db-9a7f-17ad361ace26"
      },
      "execution_count": null,
      "outputs": [
        {
          "output_type": "stream",
          "name": "stdout",
          "text": [
            "=== Exact NN ===\n",
            "Indices: [[ 49 533 148 827 247]]\n",
            "Distances: [[0.01538731 0.02133513 0.02190883 0.02413926 0.02985063]]\n",
            "Waktu: 0.0015494823455810547 detik\n",
            "\n",
            "=== HNSW ===\n",
            "Indices: [[ 49 533 148 827 247]]\n",
            "Distances: [[0.00023677 0.00045519 0.00048    0.0005827  0.00089106]]\n",
            "Waktu: 0.00015664100646972656 detik\n"
          ]
        }
      ]
    },
    {
      "cell_type": "markdown",
      "source": [
        "b. Distance Metrics : Euclidean\n",
        "\n",
        "Dimenasi : 5D\n",
        "\n",
        "Jumlah Data : 1000"
      ],
      "metadata": {
        "id": "GhfPhKQhFui3"
      }
    },
    {
      "cell_type": "code",
      "source": [
        "import hnswlib\n",
        "import numpy as np\n",
        "import time\n",
        "from sklearn.neighbors import NearestNeighbors\n",
        "\n",
        "# ===========================\n",
        "# 1. Buat data 5D acak\n",
        "# ===========================\n",
        "num_elements = 1000\n",
        "dim = 5\n",
        "data = np.random.random((num_elements, dim)).astype(np.float32)\n",
        "\n",
        "# Query point\n",
        "query = np.array([[0.5, 0.5, 0.5, 0.5, 0.5]], dtype=np.float32)\n",
        "k = 5  # cari 5 tetangga terdekat\n",
        "\n",
        "# ===========================\n",
        "# 2. Exact NN (Brute Force)\n",
        "# ===========================\n",
        "nn = NearestNeighbors(n_neighbors=k, algorithm='brute', metric='euclidean')\n",
        "nn.fit(data)\n",
        "\n",
        "start = time.time()\n",
        "distances, indices = nn.kneighbors(query)\n",
        "end = time.time()\n",
        "\n",
        "print(\"=== Exact NN ===\")\n",
        "print(\"Indices:\", indices)\n",
        "print(\"Distances:\", distances)\n",
        "print(\"Waktu:\", end - start, \"detik\")\n",
        "\n",
        "# ===========================\n",
        "# 3. HNSW\n",
        "# ===========================\n",
        "# Inisialisasi index HNSW\n",
        "p = hnswlib.Index(space='l2', dim=dim)\n",
        "\n",
        "# Ukuran maksimum elemen yang bisa ditampung\n",
        "p.init_index(max_elements=num_elements, ef_construction=100, M=16)\n",
        "\n",
        "# Tambahkan data\n",
        "p.add_items(data)\n",
        "\n",
        "# Set parameter pencarian\n",
        "p.set_ef(50)   # tradeoff speed vs accuracy\n",
        "\n",
        "start = time.time()\n",
        "labels, distances = p.knn_query(query, k=k)\n",
        "end = time.time()\n",
        "\n",
        "print(\"\\n=== HNSW ===\")\n",
        "print(\"Indices:\", labels)\n",
        "print(\"Distances:\", distances)\n",
        "print(\"Waktu:\", end - start, \"detik\")\n"
      ],
      "metadata": {
        "colab": {
          "base_uri": "https://localhost:8080/"
        },
        "id": "dCCb9MU3FwbO",
        "outputId": "f02d257d-6e4e-4e74-bd6a-235ace1ff151"
      },
      "execution_count": null,
      "outputs": [
        {
          "output_type": "stream",
          "name": "stdout",
          "text": [
            "=== Exact NN ===\n",
            "Indices: [[431  17 376 387 857]]\n",
            "Distances: [[0.14893341 0.14961357 0.20321751 0.22668211 0.23381974]]\n",
            "Waktu: 0.002084970474243164 detik\n",
            "\n",
            "=== HNSW ===\n",
            "Indices: [[431  17 376 387 857]]\n",
            "Distances: [[0.02218116 0.02238422 0.04129735 0.05138478 0.05467167]]\n",
            "Waktu: 0.000232696533203125 detik\n"
          ]
        }
      ]
    },
    {
      "cell_type": "markdown",
      "source": [
        "c. Distance Metrics : Euclidean\n",
        "\n",
        "Dimenasi : 2D\n",
        "\n",
        "Jumlah Data : 1000000"
      ],
      "metadata": {
        "id": "Viv7boM8Gbq6"
      }
    },
    {
      "cell_type": "code",
      "source": [
        "import hnswlib\n",
        "import numpy as np\n",
        "import time\n",
        "from sklearn.neighbors import NearestNeighbors\n",
        "\n",
        "# ===========================\n",
        "# 1. Buat data 2D acak\n",
        "# ===========================\n",
        "num_elements = 100000\n",
        "dim = 2\n",
        "data = np.random.random((num_elements, dim)).astype(np.float32)\n",
        "\n",
        "# Query point\n",
        "query = np.array([[0.5, 0.5]], dtype=np.float32)\n",
        "k = 5  # cari 5 tetangga terdekat\n",
        "\n",
        "# ===========================\n",
        "# 2. Exact NN (Brute Force)\n",
        "# ===========================\n",
        "nn = NearestNeighbors(n_neighbors=k, algorithm='brute', metric='euclidean')\n",
        "nn.fit(data)\n",
        "\n",
        "start = time.time()\n",
        "distances, indices = nn.kneighbors(query)\n",
        "end = time.time()\n",
        "\n",
        "print(\"=== Exact NN ===\")\n",
        "print(\"Indices:\", indices)\n",
        "print(\"Distances:\", distances)\n",
        "print(\"Waktu:\", end - start, \"detik\")\n",
        "\n",
        "# ===========================\n",
        "# 3. HNSW\n",
        "# ===========================\n",
        "# Inisialisasi index HNSW\n",
        "p = hnswlib.Index(space='l2', dim=dim)\n",
        "\n",
        "# Ukuran maksimum elemen yang bisa ditampung\n",
        "p.init_index(max_elements=num_elements, ef_construction=100, M=16)\n",
        "\n",
        "# Tambahkan data\n",
        "p.add_items(data)\n",
        "\n",
        "# Set parameter pencarian\n",
        "p.set_ef(50)   # tradeoff speed vs accuracy\n",
        "\n",
        "start = time.time()\n",
        "labels, distances = p.knn_query(query, k=k)\n",
        "end = time.time()\n",
        "\n",
        "print(\"\\n=== HNSW ===\")\n",
        "print(\"Indices:\", labels)\n",
        "print(\"Distances:\", distances)\n",
        "print(\"Waktu:\", end - start, \"detik\")\n"
      ],
      "metadata": {
        "colab": {
          "base_uri": "https://localhost:8080/"
        },
        "id": "1A1jrdO_GeCv",
        "outputId": "0c598469-632c-46c5-d8d6-5756dd4870ac"
      },
      "execution_count": null,
      "outputs": [
        {
          "output_type": "stream",
          "name": "stdout",
          "text": [
            "=== Exact NN ===\n",
            "Indices: [[70987  8647 40524 34412 51796]]\n",
            "Distances: [[0.00173047 0.00190171 0.0036045  0.00410863 0.00452803]]\n",
            "Waktu: 0.003448486328125 detik\n",
            "\n",
            "=== HNSW ===\n",
            "Indices: [[70987  8647 40524 34412 51796]]\n",
            "Distances: [[2.9945288e-06 3.6164838e-06 1.2992452e-05 1.6880836e-05 2.0503017e-05]]\n",
            "Waktu: 0.0002422332763671875 detik\n"
          ]
        }
      ]
    },
    {
      "cell_type": "markdown",
      "source": [
        "d. Distance Metrics : Euclidean\n",
        "\n",
        "Dimenasi : 5D\n",
        "\n",
        "Jumlah Data : 1000000\n",
        "\n"
      ],
      "metadata": {
        "id": "bhcmuWkZGsvJ"
      }
    },
    {
      "cell_type": "code",
      "source": [
        "import hnswlib\n",
        "import numpy as np\n",
        "import time\n",
        "from sklearn.neighbors import NearestNeighbors\n",
        "\n",
        "# ===========================\n",
        "# 1. Buat data 5D acak\n",
        "# ===========================\n",
        "num_elements = 100000\n",
        "dim = 5\n",
        "data = np.random.random((num_elements, dim)).astype(np.float32)\n",
        "\n",
        "# Query point\n",
        "query = np.array([[0.5, 0.5, 0.5, 0.5, 0.5]], dtype=np.float32)\n",
        "k = 5  # cari 5 tetangga terdekat\n",
        "\n",
        "# ===========================\n",
        "# 2. Exact NN (Brute Force)\n",
        "# ===========================\n",
        "nn = NearestNeighbors(n_neighbors=k, algorithm='brute', metric='euclidean')\n",
        "nn.fit(data)\n",
        "\n",
        "start = time.time()\n",
        "distances, indices = nn.kneighbors(query)\n",
        "end = time.time()\n",
        "\n",
        "print(\"=== Exact NN ===\")\n",
        "print(\"Indices:\", indices)\n",
        "print(\"Distances:\", distances)\n",
        "print(\"Waktu:\", end - start, \"detik\")\n",
        "\n",
        "# ===========================\n",
        "# 3. HNSW\n",
        "# ===========================\n",
        "# Inisialisasi index HNSW\n",
        "p = hnswlib.Index(space='l2', dim=dim)\n",
        "\n",
        "# Ukuran maksimum elemen yang bisa ditampung\n",
        "p.init_index(max_elements=num_elements, ef_construction=100, M=16)\n",
        "\n",
        "# Tambahkan data\n",
        "p.add_items(data)\n",
        "\n",
        "# Set parameter pencarian\n",
        "p.set_ef(50)   # tradeoff speed vs accuracy\n",
        "\n",
        "start = time.time()\n",
        "labels, distances = p.knn_query(query, k=k)\n",
        "end = time.time()\n",
        "\n",
        "print(\"\\n=== HNSW ===\")\n",
        "print(\"Indices:\", labels)\n",
        "print(\"Distances:\", distances)\n",
        "print(\"Waktu:\", end - start, \"detik\")\n"
      ],
      "metadata": {
        "colab": {
          "base_uri": "https://localhost:8080/"
        },
        "id": "lAvYnwbyGhit",
        "outputId": "293aa215-16af-46e5-e719-5c21bf1f9569"
      },
      "execution_count": null,
      "outputs": [
        {
          "output_type": "stream",
          "name": "stdout",
          "text": [
            "=== Exact NN ===\n",
            "Indices: [[31059 54744 60581 44740 84953]]\n",
            "Distances: [[0.0355023  0.05358246 0.07169926 0.08797015 0.08846541]]\n",
            "Waktu: 0.004021406173706055 detik\n",
            "\n",
            "=== HNSW ===\n",
            "Indices: [[31059 54744 60581 44740 84953]]\n",
            "Distances: [[0.00126041 0.00287108 0.00514078 0.00773875 0.00782613]]\n",
            "Waktu: 0.0003349781036376953 detik\n"
          ]
        }
      ]
    },
    {
      "cell_type": "markdown",
      "source": [
        "e. Distance Metrics : Cosine\n",
        "\n",
        "Dimenasi : 2D\n",
        "\n",
        "Jumlah Data : 1000\n",
        "\n"
      ],
      "metadata": {
        "id": "WmrvAMC_G6st"
      }
    },
    {
      "cell_type": "code",
      "source": [
        "import hnswlib\n",
        "import numpy as np\n",
        "import time\n",
        "from sklearn.neighbors import NearestNeighbors\n",
        "\n",
        "# ===========================\n",
        "# 1. Buat data 2D acak\n",
        "# ===========================\n",
        "num_elements = 1000\n",
        "dim = 2\n",
        "data = np.random.random((num_elements, dim)).astype(np.float32)\n",
        "\n",
        "# Query point\n",
        "query = np.array([[0.5, 0.5]], dtype=np.float32)\n",
        "k = 5  # cari 5 tetangga terdekat\n",
        "\n",
        "# ===========================\n",
        "# 2. Exact NN (Brute Force)\n",
        "# ===========================\n",
        "nn = NearestNeighbors(n_neighbors=k, algorithm='brute', metric='cosine')\n",
        "nn.fit(data)\n",
        "\n",
        "start = time.time()\n",
        "distances, indices = nn.kneighbors(query)\n",
        "end = time.time()\n",
        "\n",
        "print(\"=== Exact NN ===\")\n",
        "print(\"Indices:\", indices)\n",
        "print(\"Distances:\", distances)\n",
        "print(\"Waktu:\", end - start, \"detik\")\n",
        "\n",
        "# ===========================\n",
        "# 3. HNSW\n",
        "# ===========================\n",
        "# Inisialisasi index HNSW\n",
        "p = hnswlib.Index(space='l2', dim=dim)\n",
        "\n",
        "# Ukuran maksimum elemen yang bisa ditampung\n",
        "p.init_index(max_elements=num_elements, ef_construction=100, M=16)\n",
        "\n",
        "# Tambahkan data\n",
        "p.add_items(data)\n",
        "\n",
        "# Set parameter pencarian\n",
        "p.set_ef(50)   # tradeoff speed vs accuracy\n",
        "\n",
        "start = time.time()\n",
        "labels, distances = p.knn_query(query, k=k)\n",
        "end = time.time()\n",
        "\n",
        "print(\"\\n=== HNSW ===\")\n",
        "print(\"Indices:\", labels)\n",
        "print(\"Distances:\", distances)\n",
        "print(\"Waktu:\", end - start, \"detik\")\n"
      ],
      "metadata": {
        "colab": {
          "base_uri": "https://localhost:8080/"
        },
        "id": "aVqAun5fG9Xu",
        "outputId": "4807b413-0ebd-45f1-da7c-25a3b842eeda"
      },
      "execution_count": null,
      "outputs": [
        {
          "output_type": "stream",
          "name": "stdout",
          "text": [
            "=== Exact NN ===\n",
            "Indices: [[931 453 212 799 945]]\n",
            "Distances: [[0.0000000e+00 8.3446503e-07 1.0728836e-06 1.1920929e-06 4.1127205e-06]]\n",
            "Waktu: 0.013378143310546875 detik\n",
            "\n",
            "=== HNSW ===\n",
            "Indices: [[428 328 445 804  43]]\n",
            "Distances: [[0.00019981 0.00020069 0.0006724  0.00096299 0.00139113]]\n",
            "Waktu: 0.00015544891357421875 detik\n"
          ]
        }
      ]
    },
    {
      "cell_type": "markdown",
      "source": [
        "f. Distance Metrics : Cosine\n",
        "\n",
        "Dimenasi : 5D\n",
        "\n",
        "Jumlah Data : 1000"
      ],
      "metadata": {
        "id": "Xiw2hT8NHQuA"
      }
    },
    {
      "cell_type": "code",
      "source": [
        "import hnswlib\n",
        "import numpy as np\n",
        "import time\n",
        "from sklearn.neighbors import NearestNeighbors\n",
        "\n",
        "# ===========================\n",
        "# 1. Buat data 5D acak\n",
        "# ===========================\n",
        "num_elements = 1000\n",
        "dim = 5\n",
        "data = np.random.random((num_elements, dim)).astype(np.float32)\n",
        "\n",
        "# Query point\n",
        "query = np.array([[0.5, 0.5, 0.5, 0.5, 0.5]], dtype=np.float32)\n",
        "k = 5  # cari 5 tetangga terdekat\n",
        "\n",
        "# ===========================\n",
        "# 2. Exact NN (Brute Force)\n",
        "# ===========================\n",
        "nn = NearestNeighbors(n_neighbors=k, algorithm='brute', metric='cosine')\n",
        "nn.fit(data)\n",
        "\n",
        "start = time.time()\n",
        "distances, indices = nn.kneighbors(query)\n",
        "end = time.time()\n",
        "\n",
        "print(\"=== Exact NN ===\")\n",
        "print(\"Indices:\", indices)\n",
        "print(\"Distances:\", distances)\n",
        "print(\"Waktu:\", end - start, \"detik\")\n",
        "\n",
        "# ===========================\n",
        "# 3. HNSW\n",
        "# ===========================\n",
        "# Inisialisasi index HNSW\n",
        "p = hnswlib.Index(space='l2', dim=dim)\n",
        "\n",
        "# Ukuran maksimum elemen yang bisa ditampung\n",
        "p.init_index(max_elements=num_elements, ef_construction=100, M=16)\n",
        "\n",
        "# Tambahkan data\n",
        "p.add_items(data)\n",
        "\n",
        "# Set parameter pencarian\n",
        "p.set_ef(50)   # tradeoff speed vs accuracy\n",
        "\n",
        "start = time.time()\n",
        "labels, distances = p.knn_query(query, k=k)\n",
        "end = time.time()\n",
        "\n",
        "print(\"\\n=== HNSW ===\")\n",
        "print(\"Indices:\", labels)\n",
        "print(\"Distances:\", distances)\n",
        "print(\"Waktu:\", end - start, \"detik\")\n"
      ],
      "metadata": {
        "colab": {
          "base_uri": "https://localhost:8080/"
        },
        "id": "pf2nsys3HTyn",
        "outputId": "7e98f1ca-f5a2-4e2f-9a08-f62d9e741655"
      },
      "execution_count": null,
      "outputs": [
        {
          "output_type": "stream",
          "name": "stdout",
          "text": [
            "=== Exact NN ===\n",
            "Indices: [[311  90 593 161 224]]\n",
            "Distances: [[0.00311124 0.00560772 0.00694764 0.00713158 0.00714374]]\n",
            "Waktu: 0.0024890899658203125 detik\n",
            "\n",
            "=== HNSW ===\n",
            "Indices: [[ 90 695 807 366 206]]\n",
            "Distances: [[0.01416965 0.03179679 0.03312707 0.05547608 0.05661878]]\n",
            "Waktu: 0.00023055076599121094 detik\n"
          ]
        }
      ]
    },
    {
      "cell_type": "markdown",
      "source": [
        "g. Distance Metrics : Cosine\n",
        "\n",
        "Dimenasi : 2D\n",
        "\n",
        "Jumlah Data : 1000000"
      ],
      "metadata": {
        "id": "LndW47wrHfM6"
      }
    },
    {
      "cell_type": "code",
      "source": [
        "import hnswlib\n",
        "import numpy as np\n",
        "import time\n",
        "from sklearn.neighbors import NearestNeighbors\n",
        "\n",
        "# ===========================\n",
        "# 1. Buat data 2D acak\n",
        "# ===========================\n",
        "num_elements = 1000000\n",
        "dim = 2\n",
        "data = np.random.random((num_elements, dim)).astype(np.float32)\n",
        "\n",
        "# Query point\n",
        "query = np.array([[0.5, 0.5]], dtype=np.float32)\n",
        "k = 5  # cari 5 tetangga terdekat\n",
        "\n",
        "# ===========================\n",
        "# 2. Exact NN (Brute Force)\n",
        "# ===========================\n",
        "nn = NearestNeighbors(n_neighbors=k, algorithm='brute', metric='cosine')\n",
        "nn.fit(data)\n",
        "\n",
        "start = time.time()\n",
        "distances, indices = nn.kneighbors(query)\n",
        "end = time.time()\n",
        "\n",
        "print(\"=== Exact NN ===\")\n",
        "print(\"Indices:\", indices)\n",
        "print(\"Distances:\", distances)\n",
        "print(\"Waktu:\", end - start, \"detik\")\n",
        "\n",
        "# ===========================\n",
        "# 3. HNSW\n",
        "# ===========================\n",
        "# Inisialisasi index HNSW\n",
        "p = hnswlib.Index(space='cosine', dim=dim)\n",
        "\n",
        "# Ukuran maksimum elemen yang bisa ditampung\n",
        "p.init_index(max_elements=num_elements, ef_construction=100, M=16)\n",
        "\n",
        "# Tambahkan data\n",
        "p.add_items(data)\n",
        "\n",
        "# Set parameter pencarian\n",
        "p.set_ef(50)   # tradeoff speed vs accuracy\n",
        "\n",
        "start = time.time()\n",
        "labels, distances = p.knn_query(query, k=k)\n",
        "end = time.time()\n",
        "\n",
        "print(\"\\n=== HNSW ===\")\n",
        "print(\"Indices:\", labels)\n",
        "print(\"Distances:\", distances)\n",
        "print(\"Waktu:\", end - start, \"detik\")\n"
      ],
      "metadata": {
        "colab": {
          "base_uri": "https://localhost:8080/"
        },
        "id": "aal9vJrsHhiK",
        "outputId": "89f22a38-4bd3-440e-dad0-2ae8eb34817b"
      },
      "execution_count": null,
      "outputs": [
        {
          "output_type": "stream",
          "name": "stdout",
          "text": [
            "=== Exact NN ===\n",
            "Indices: [[365648 444380  79056 444212 804387]]\n",
            "Distances: [[0. 0. 0. 0. 0.]]\n",
            "Waktu: 0.03367137908935547 detik\n",
            "\n",
            "=== HNSW ===\n",
            "Indices: [[  9544 193345 503275 814992 852359]]\n",
            "Distances: [[-1.1920929e-07 -1.1920929e-07 -1.1920929e-07 -1.1920929e-07\n",
            "  -1.1920929e-07]]\n",
            "Waktu: 0.00027108192443847656 detik\n"
          ]
        }
      ]
    },
    {
      "cell_type": "markdown",
      "source": [
        "h. Distance Metrics : Cosine\n",
        "\n",
        "Dimenasi : 5D\n",
        "\n",
        "Jumlah Data : 1000000"
      ],
      "metadata": {
        "id": "Y8JNGPtjHmw9"
      }
    },
    {
      "cell_type": "code",
      "source": [
        "import hnswlib\n",
        "import numpy as np\n",
        "import time\n",
        "from sklearn.neighbors import NearestNeighbors\n",
        "\n",
        "# ===========================\n",
        "# 1. Buat data 5D acak\n",
        "# ===========================\n",
        "num_elements = 1000000\n",
        "dim = 5\n",
        "data = np.random.random((num_elements, dim)).astype(np.float32)\n",
        "\n",
        "# Query point\n",
        "query = np.array([[0.5, 0.5, 0.5, 0.5, 0.5]], dtype=np.float32)\n",
        "k = 5  # cari 5 tetangga terdekat\n",
        "\n",
        "# ===========================\n",
        "# 2. Exact NN (Brute Force)\n",
        "# ===========================\n",
        "nn = NearestNeighbors(n_neighbors=k, algorithm='brute', metric='cosine')\n",
        "nn.fit(data)\n",
        "\n",
        "start = time.time()\n",
        "distances, indices = nn.kneighbors(query)\n",
        "end = time.time()\n",
        "\n",
        "print(\"=== Exact NN ===\")\n",
        "print(\"Indices:\", indices)\n",
        "print(\"Distances:\", distances)\n",
        "print(\"Waktu:\", end - start, \"detik\")\n",
        "\n",
        "# ===========================\n",
        "# 3. HNSW\n",
        "# ===========================\n",
        "# Inisialisasi index HNSW\n",
        "p = hnswlib.Index(space='cosine', dim=dim)\n",
        "\n",
        "# Ukuran maksimum elemen yang bisa ditampung\n",
        "p.init_index(max_elements=num_elements, ef_construction=100, M=16)\n",
        "\n",
        "# Tambahkan data\n",
        "p.add_items(data)\n",
        "\n",
        "# Set parameter pencarian\n",
        "p.set_ef(50)   # tradeoff speed vs accuracy\n",
        "\n",
        "start = time.time()\n",
        "labels, distances = p.knn_query(query, k=k)\n",
        "end = time.time()\n",
        "\n",
        "print(\"\\n=== HNSW ===\")\n",
        "print(\"Indices:\", labels)\n",
        "print(\"Distances:\", distances)\n",
        "print(\"Waktu:\", end - start, \"detik\")\n"
      ],
      "metadata": {
        "colab": {
          "base_uri": "https://localhost:8080/"
        },
        "id": "2Wum-LQnHnhG",
        "outputId": "f14754a8-a5ee-434a-9548-66cfd4cd9382"
      },
      "execution_count": null,
      "outputs": [
        {
          "output_type": "stream",
          "name": "stdout",
          "text": [
            "=== Exact NN ===\n",
            "Indices: [[943432 339720 301131 151785 713507]]\n",
            "Distances: [[0.00010097 0.00013959 0.00017446 0.00018752 0.00018835]]\n",
            "Waktu: 0.048510074615478516 detik\n",
            "\n",
            "=== HNSW ===\n",
            "Indices: [[943432 339720 301131 151785 713507]]\n",
            "Distances: [[0.00010097 0.00013947 0.00017452 0.00018752 0.00018835]]\n",
            "Waktu: 0.00021696090698242188 detik\n"
          ]
        }
      ]
    }
  ]
}