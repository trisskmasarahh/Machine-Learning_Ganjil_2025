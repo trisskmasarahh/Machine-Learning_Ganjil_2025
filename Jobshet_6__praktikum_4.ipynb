{
  "nbformat": 4,
  "nbformat_minor": 0,
  "metadata": {
    "colab": {
      "provenance": [],
      "authorship_tag": "ABX9TyP533Z/LLw9PrBzbLk9wPLt",
      "include_colab_link": true
    },
    "kernelspec": {
      "name": "python3",
      "display_name": "Python 3"
    },
    "language_info": {
      "name": "python"
    }
  },
  "cells": [
    {
      "cell_type": "markdown",
      "metadata": {
        "id": "view-in-github",
        "colab_type": "text"
      },
      "source": [
        "<a href=\"https://colab.research.google.com/github/trisskmasarahh/Machine-Learning_Ganjil_2025/blob/main/Jobshet_6__praktikum_4.ipynb\" target=\"_parent\"><img src=\"https://colab.research.google.com/assets/colab-badge.svg\" alt=\"Open In Colab\"/></a>"
      ]
    },
    {
      "cell_type": "code",
      "source": [
        "!pip install annoy\n"
      ],
      "metadata": {
        "colab": {
          "base_uri": "https://localhost:8080/"
        },
        "id": "qFV0GVEny6-h",
        "outputId": "6ef2fa5b-d8ad-4ccf-dc4e-ef66991b122b"
      },
      "execution_count": 2,
      "outputs": [
        {
          "output_type": "stream",
          "name": "stdout",
          "text": [
            "Collecting annoy\n",
            "  Downloading annoy-1.17.3.tar.gz (647 kB)\n",
            "\u001b[?25l     \u001b[90m━━━━━━━━━━━━━━━━━━━━━━━━━━━━━━━━━━━━━━━━\u001b[0m \u001b[32m0.0/647.5 kB\u001b[0m \u001b[31m?\u001b[0m eta \u001b[36m-:--:--\u001b[0m\r\u001b[2K     \u001b[91m━━━━━━━━━━━━━━━━━\u001b[0m\u001b[90m╺\u001b[0m\u001b[90m━━━━━━━━━━━━━━━━━━━━━\u001b[0m \u001b[32m286.7/647.5 kB\u001b[0m \u001b[31m8.6 MB/s\u001b[0m eta \u001b[36m0:00:01\u001b[0m\r\u001b[2K     \u001b[90m━━━━━━━━━━━━━━━━━━━━━━━━━━━━━━━━━━━━━━\u001b[0m \u001b[32m647.5/647.5 kB\u001b[0m \u001b[31m10.2 MB/s\u001b[0m eta \u001b[36m0:00:00\u001b[0m\n",
            "\u001b[?25h  Preparing metadata (setup.py) ... \u001b[?25l\u001b[?25hdone\n",
            "Building wheels for collected packages: annoy\n",
            "  Building wheel for annoy (setup.py) ... \u001b[?25l\u001b[?25hdone\n",
            "  Created wheel for annoy: filename=annoy-1.17.3-cp312-cp312-linux_x86_64.whl size=551809 sha256=7212ad6bd618965ec806816fd2cb72c5ae0f58080ba644ce54f626d393c71422\n",
            "  Stored in directory: /root/.cache/pip/wheels/db/b9/53/a3b2d1fe1743abadddec6aa541294b24fdbc39d7800bc57311\n",
            "Successfully built annoy\n",
            "Installing collected packages: annoy\n",
            "Successfully installed annoy-1.17.3\n"
          ]
        }
      ]
    },
    {
      "cell_type": "code",
      "source": [
        "!pip install annoy faiss-cpu hnswlib\n"
      ],
      "metadata": {
        "colab": {
          "base_uri": "https://localhost:8080/"
        },
        "id": "6RHGe6NSzAvV",
        "outputId": "25c51ef4-43ef-4050-c912-f93739414c85"
      },
      "execution_count": 3,
      "outputs": [
        {
          "output_type": "stream",
          "name": "stdout",
          "text": [
            "Requirement already satisfied: annoy in /usr/local/lib/python3.12/dist-packages (1.17.3)\n",
            "Collecting faiss-cpu\n",
            "  Downloading faiss_cpu-1.12.0-cp312-cp312-manylinux_2_27_x86_64.manylinux_2_28_x86_64.whl.metadata (5.1 kB)\n",
            "Collecting hnswlib\n",
            "  Downloading hnswlib-0.8.0.tar.gz (36 kB)\n",
            "  Installing build dependencies ... \u001b[?25l\u001b[?25hdone\n",
            "  Getting requirements to build wheel ... \u001b[?25l\u001b[?25hdone\n",
            "  Preparing metadata (pyproject.toml) ... \u001b[?25l\u001b[?25hdone\n",
            "Requirement already satisfied: numpy<3.0,>=1.25.0 in /usr/local/lib/python3.12/dist-packages (from faiss-cpu) (2.0.2)\n",
            "Requirement already satisfied: packaging in /usr/local/lib/python3.12/dist-packages (from faiss-cpu) (25.0)\n",
            "Downloading faiss_cpu-1.12.0-cp312-cp312-manylinux_2_27_x86_64.manylinux_2_28_x86_64.whl (31.4 MB)\n",
            "\u001b[2K   \u001b[90m━━━━━━━━━━━━━━━━━━━━━━━━━━━━━━━━━━━━━━━━\u001b[0m \u001b[32m31.4/31.4 MB\u001b[0m \u001b[31m20.2 MB/s\u001b[0m eta \u001b[36m0:00:00\u001b[0m\n",
            "\u001b[?25hBuilding wheels for collected packages: hnswlib\n",
            "  Building wheel for hnswlib (pyproject.toml) ... \u001b[?25l\u001b[?25hdone\n",
            "  Created wheel for hnswlib: filename=hnswlib-0.8.0-cp312-cp312-linux_x86_64.whl size=2528146 sha256=cee5a78d5499bef0d096f2cf46f41417401e94bed59934132b0077acf7b81b3a\n",
            "  Stored in directory: /root/.cache/pip/wheels/ac/39/b3/cbd7f9cbb76501d2d5fbc84956e70d0b94e788aac87bda465e\n",
            "Successfully built hnswlib\n",
            "Installing collected packages: hnswlib, faiss-cpu\n",
            "Successfully installed faiss-cpu-1.12.0 hnswlib-0.8.0\n"
          ]
        }
      ]
    },
    {
      "cell_type": "code",
      "execution_count": 4,
      "metadata": {
        "colab": {
          "base_uri": "https://localhost:8080/"
        },
        "id": "4CU_jVCWyaMg",
        "outputId": "3e0f3727-17d3-482e-e8f9-85944bba3a71"
      },
      "outputs": [
        {
          "output_type": "stream",
          "name": "stdout",
          "text": [
            "=== Annoy ===\n",
            "Build time: 26.385562419891357 detik\n",
            "Query time: 0.00030112266540527344 detik\n",
            "Neighbors: [433087, 520932, 445262, 651818, 413686] ...\n",
            "\n",
            "=== FAISS (IndexFlatL2) ===\n",
            "Build time: 0.019700288772583008 detik\n",
            "Query time: 0.011892080307006836 detik\n",
            "Neighbors: [433087 520932 445262 651818 413686] ...\n",
            "\n",
            "=== HNSW (hnswlib) ===\n",
            "Build time: 168.25168919563293 detik\n",
            "Query time: 0.00019598007202148438 detik\n",
            "Neighbors: [433087 520932 445262 651818 413686] ...\n"
          ]
        }
      ],
      "source": [
        "import numpy as np\n",
        "import time\n",
        "from annoy import AnnoyIndex\n",
        "import faiss\n",
        "import hnswlib\n",
        "\n",
        "# ===============================\n",
        "# 1. Buat dataset 1 juta data 5D\n",
        "# ===============================\n",
        "n_data = 1_000_000   # bisa coba 100_000 dulu jika RAM terbatas\n",
        "dim = 5\n",
        "X = np.random.random((n_data, dim)).astype(np.float32)\n",
        "\n",
        "# Query point\n",
        "query = np.random.random((1, dim)).astype(np.float32)\n",
        "k = 10\n",
        "\n",
        "# ===============================\n",
        "# 2. Annoy\n",
        "# ===============================\n",
        "print(\"=== Annoy ===\")\n",
        "ann_index = AnnoyIndex(dim, 'euclidean')\n",
        "\n",
        "start = time.time()\n",
        "for i in range(n_data):\n",
        "    ann_index.add_item(i, X[i])\n",
        "ann_index.build(10)  # 10 trees\n",
        "build_time = time.time() - start\n",
        "\n",
        "start = time.time()\n",
        "neighbors = ann_index.get_nns_by_vector(query[0], k, include_distances=True)\n",
        "query_time = time.time() - start\n",
        "\n",
        "print(\"Build time:\", build_time, \"detik\")\n",
        "print(\"Query time:\", query_time, \"detik\")\n",
        "print(\"Neighbors:\", neighbors[0][:5], \"...\")\n",
        "\n",
        "# ===============================\n",
        "# 3. FAISS (Flat Index)\n",
        "# ===============================\n",
        "print(\"\\n=== FAISS (IndexFlatL2) ===\")\n",
        "faiss_index = faiss.IndexFlatL2(dim)\n",
        "\n",
        "start = time.time()\n",
        "faiss_index.add(X)\n",
        "build_time = time.time() - start\n",
        "\n",
        "start = time.time()\n",
        "distances, indices = faiss_index.search(query, k)\n",
        "query_time = time.time() - start\n",
        "\n",
        "print(\"Build time:\", build_time, \"detik\")\n",
        "print(\"Query time:\", query_time, \"detik\")\n",
        "print(\"Neighbors:\", indices[0][:5], \"...\")\n",
        "\n",
        "# ===============================\n",
        "# 4. HNSW (hnswlib)\n",
        "# ===============================\n",
        "print(\"\\n=== HNSW (hnswlib) ===\")\n",
        "hnsw_index = hnswlib.Index(space='l2', dim=dim)\n",
        "\n",
        "start = time.time()\n",
        "hnsw_index.init_index(max_elements=n_data, ef_construction=200, M=16)\n",
        "hnsw_index.add_items(X)\n",
        "build_time = time.time() - start\n",
        "\n",
        "hnsw_index.set_ef(50)\n",
        "\n",
        "start = time.time()\n",
        "labels, distances = hnsw_index.knn_query(query, k=k)\n",
        "query_time = time.time() - start\n",
        "\n",
        "print(\"Build time:\", build_time, \"detik\")\n",
        "print(\"Query time:\", query_time, \"detik\")\n",
        "print(\"Neighbors:\", labels[0][:5], \"...\")\n"
      ]
    },
    {
      "cell_type": "markdown",
      "source": [
        "Lakukan percobaan pada metric distance yang berbeda. catat hasilnya pada tabel yang anda buat sendiri seperti pada praktikum 1."
      ],
      "metadata": {
        "id": "BDX8EiMZymJ9"
      }
    }
  ]
}