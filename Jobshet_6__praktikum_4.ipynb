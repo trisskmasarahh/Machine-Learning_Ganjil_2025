{
  "nbformat": 4,
  "nbformat_minor": 0,
  "metadata": {
    "colab": {
      "provenance": [],
      "authorship_tag": "ABX9TyMms3qpoU0Xvwc0JemflaK0",
      "include_colab_link": true
    },
    "kernelspec": {
      "name": "python3",
      "display_name": "Python 3"
    },
    "language_info": {
      "name": "python"
    }
  },
  "cells": [
    {
      "cell_type": "markdown",
      "metadata": {
        "id": "view-in-github",
        "colab_type": "text"
      },
      "source": [
        "<a href=\"https://colab.research.google.com/github/trisskmasarahh/Machine-Learning_Ganjil_2025/blob/main/Jobshet_6__praktikum_4.ipynb\" target=\"_parent\"><img src=\"https://colab.research.google.com/assets/colab-badge.svg\" alt=\"Open In Colab\"/></a>"
      ]
    },
    {
      "cell_type": "code",
      "source": [
        "!pip install annoy\n"
      ],
      "metadata": {
        "colab": {
          "base_uri": "https://localhost:8080/"
        },
        "id": "qFV0GVEny6-h",
        "outputId": "e95b5795-c9cb-4aa4-8dde-00a6f34051b9"
      },
      "execution_count": null,
      "outputs": [
        {
          "output_type": "stream",
          "name": "stdout",
          "text": [
            "Collecting annoy\n",
            "  Downloading annoy-1.17.3.tar.gz (647 kB)\n",
            "\u001b[?25l     \u001b[90m━━━━━━━━━━━━━━━━━━━━━━━━━━━━━━━━━━━━━━━━\u001b[0m \u001b[32m0.0/647.5 kB\u001b[0m \u001b[31m?\u001b[0m eta \u001b[36m-:--:--\u001b[0m\r\u001b[2K     \u001b[91m━━━━━━━━━━━━━━━━━━━━━━━━━━━━━━━━━━━━━\u001b[0m\u001b[91m╸\u001b[0m \u001b[32m645.1/647.5 kB\u001b[0m \u001b[31m76.0 MB/s\u001b[0m eta \u001b[36m0:00:01\u001b[0m\r\u001b[2K     \u001b[90m━━━━━━━━━━━━━━━━━━━━━━━━━━━━━━━━━━━━━━\u001b[0m \u001b[32m647.5/647.5 kB\u001b[0m \u001b[31m18.6 MB/s\u001b[0m eta \u001b[36m0:00:00\u001b[0m\n",
            "\u001b[?25h  Preparing metadata (setup.py) ... \u001b[?25l\u001b[?25hdone\n",
            "Building wheels for collected packages: annoy\n",
            "  Building wheel for annoy (setup.py) ... \u001b[?25l\u001b[?25hdone\n",
            "  Created wheel for annoy: filename=annoy-1.17.3-cp312-cp312-linux_x86_64.whl size=551808 sha256=734d9172e84757881b91d5e04d42ad9dc78aa4e086da8a4c66ce9359afe8bc6c\n",
            "  Stored in directory: /root/.cache/pip/wheels/db/b9/53/a3b2d1fe1743abadddec6aa541294b24fdbc39d7800bc57311\n",
            "Successfully built annoy\n",
            "Installing collected packages: annoy\n",
            "Successfully installed annoy-1.17.3\n"
          ]
        }
      ]
    },
    {
      "cell_type": "markdown",
      "source": [
        "# Percobaan kali ini kita akan melihat perbedaan ketiga model yang telah kita bahas dan bandingkan hasilnya."
      ],
      "metadata": {
        "id": "Y4uk432uJhZK"
      }
    },
    {
      "cell_type": "code",
      "source": [
        "!pip install annoy faiss-cpu hnswlib\n"
      ],
      "metadata": {
        "colab": {
          "base_uri": "https://localhost:8080/"
        },
        "id": "6RHGe6NSzAvV",
        "outputId": "832d0c26-1e3f-435e-8660-a3c7e9d65c73"
      },
      "execution_count": null,
      "outputs": [
        {
          "output_type": "stream",
          "name": "stdout",
          "text": [
            "Requirement already satisfied: annoy in /usr/local/lib/python3.12/dist-packages (1.17.3)\n",
            "Collecting faiss-cpu\n",
            "  Downloading faiss_cpu-1.12.0-cp312-cp312-manylinux_2_27_x86_64.manylinux_2_28_x86_64.whl.metadata (5.1 kB)\n",
            "Collecting hnswlib\n",
            "  Downloading hnswlib-0.8.0.tar.gz (36 kB)\n",
            "  Installing build dependencies ... \u001b[?25l\u001b[?25hdone\n",
            "  Getting requirements to build wheel ... \u001b[?25l\u001b[?25hdone\n",
            "  Preparing metadata (pyproject.toml) ... \u001b[?25l\u001b[?25hdone\n",
            "Requirement already satisfied: numpy<3.0,>=1.25.0 in /usr/local/lib/python3.12/dist-packages (from faiss-cpu) (2.0.2)\n",
            "Requirement already satisfied: packaging in /usr/local/lib/python3.12/dist-packages (from faiss-cpu) (25.0)\n",
            "Downloading faiss_cpu-1.12.0-cp312-cp312-manylinux_2_27_x86_64.manylinux_2_28_x86_64.whl (31.4 MB)\n",
            "\u001b[2K   \u001b[90m━━━━━━━━━━━━━━━━━━━━━━━━━━━━━━━━━━━━━━━━\u001b[0m \u001b[32m31.4/31.4 MB\u001b[0m \u001b[31m21.9 MB/s\u001b[0m eta \u001b[36m0:00:00\u001b[0m\n",
            "\u001b[?25hBuilding wheels for collected packages: hnswlib\n",
            "  Building wheel for hnswlib (pyproject.toml) ... \u001b[?25l\u001b[?25hdone\n",
            "  Created wheel for hnswlib: filename=hnswlib-0.8.0-cp312-cp312-linux_x86_64.whl size=2528150 sha256=125a25c6c4ed15b777bf3bc4d7f368fbaec29ac829fa1997c0ef999744eb98fb\n",
            "  Stored in directory: /root/.cache/pip/wheels/ac/39/b3/cbd7f9cbb76501d2d5fbc84956e70d0b94e788aac87bda465e\n",
            "Successfully built hnswlib\n",
            "Installing collected packages: hnswlib, faiss-cpu\n",
            "Successfully installed faiss-cpu-1.12.0 hnswlib-0.8.0\n"
          ]
        }
      ]
    },
    {
      "cell_type": "code",
      "execution_count": null,
      "metadata": {
        "colab": {
          "base_uri": "https://localhost:8080/"
        },
        "id": "4CU_jVCWyaMg",
        "outputId": "3e0f3727-17d3-482e-e8f9-85944bba3a71"
      },
      "outputs": [
        {
          "output_type": "stream",
          "name": "stdout",
          "text": [
            "=== Annoy ===\n",
            "Build time: 26.385562419891357 detik\n",
            "Query time: 0.00030112266540527344 detik\n",
            "Neighbors: [433087, 520932, 445262, 651818, 413686] ...\n",
            "\n",
            "=== FAISS (IndexFlatL2) ===\n",
            "Build time: 0.019700288772583008 detik\n",
            "Query time: 0.011892080307006836 detik\n",
            "Neighbors: [433087 520932 445262 651818 413686] ...\n",
            "\n",
            "=== HNSW (hnswlib) ===\n",
            "Build time: 168.25168919563293 detik\n",
            "Query time: 0.00019598007202148438 detik\n",
            "Neighbors: [433087 520932 445262 651818 413686] ...\n"
          ]
        }
      ],
      "source": [
        "import numpy as np\n",
        "import time\n",
        "from annoy import AnnoyIndex\n",
        "import faiss\n",
        "import hnswlib\n",
        "\n",
        "# ===============================\n",
        "# 1. Buat dataset 1 juta data 5D\n",
        "# ===============================\n",
        "n_data = 1_000_000   # bisa coba 100_000 dulu jika RAM terbatas\n",
        "dim = 5\n",
        "X = np.random.random((n_data, dim)).astype(np.float32)\n",
        "\n",
        "# Query point\n",
        "query = np.random.random((1, dim)).astype(np.float32)\n",
        "k = 10\n",
        "\n",
        "# ===============================\n",
        "# 2. Annoy\n",
        "# ===============================\n",
        "print(\"=== Annoy ===\")\n",
        "ann_index = AnnoyIndex(dim, 'euclidean')\n",
        "\n",
        "start = time.time()\n",
        "for i in range(n_data):\n",
        "    ann_index.add_item(i, X[i])\n",
        "ann_index.build(10)  # 10 trees\n",
        "build_time = time.time() - start\n",
        "\n",
        "start = time.time()\n",
        "neighbors = ann_index.get_nns_by_vector(query[0], k, include_distances=True)\n",
        "query_time = time.time() - start\n",
        "\n",
        "print(\"Build time:\", build_time, \"detik\")\n",
        "print(\"Query time:\", query_time, \"detik\")\n",
        "print(\"Neighbors:\", neighbors[0][:5], \"...\")\n",
        "\n",
        "# ===============================\n",
        "# 3. FAISS (Flat Index)\n",
        "# ===============================\n",
        "print(\"\\n=== FAISS (IndexFlatL2) ===\")\n",
        "faiss_index = faiss.IndexFlatL2(dim)\n",
        "\n",
        "start = time.time()\n",
        "faiss_index.add(X)\n",
        "build_time = time.time() - start\n",
        "\n",
        "start = time.time()\n",
        "distances, indices = faiss_index.search(query, k)\n",
        "query_time = time.time() - start\n",
        "\n",
        "print(\"Build time:\", build_time, \"detik\")\n",
        "print(\"Query time:\", query_time, \"detik\")\n",
        "print(\"Neighbors:\", indices[0][:5], \"...\")\n",
        "\n",
        "# ===============================\n",
        "# 4. HNSW (hnswlib)\n",
        "# ===============================\n",
        "print(\"\\n=== HNSW (hnswlib) ===\")\n",
        "hnsw_index = hnswlib.Index(space='l2', dim=dim)\n",
        "\n",
        "start = time.time()\n",
        "hnsw_index.init_index(max_elements=n_data, ef_construction=200, M=16)\n",
        "hnsw_index.add_items(X)\n",
        "build_time = time.time() - start\n",
        "\n",
        "hnsw_index.set_ef(50)\n",
        "\n",
        "start = time.time()\n",
        "labels, distances = hnsw_index.knn_query(query, k=k)\n",
        "query_time = time.time() - start\n",
        "\n",
        "print(\"Build time:\", build_time, \"detik\")\n",
        "print(\"Query time:\", query_time, \"detik\")\n",
        "print(\"Neighbors:\", labels[0][:5], \"...\")\n"
      ]
    },
    {
      "cell_type": "markdown",
      "source": [
        "Lakukan percobaan pada metric distance yang berbeda. catat hasilnya pada tabel yang anda buat sendiri seperti pada praktikum 1."
      ],
      "metadata": {
        "id": "BDX8EiMZymJ9"
      }
    },
    {
      "cell_type": "markdown",
      "source": [
        "# Pada Metrics Distance L2 (Euclidean)"
      ],
      "metadata": {
        "id": "M9CfMVAcJkYw"
      }
    },
    {
      "cell_type": "code",
      "source": [
        "import numpy as np\n",
        "import time\n",
        "from annoy import AnnoyIndex\n",
        "import faiss\n",
        "import hnswlib\n",
        "\n",
        "# ===============================\n",
        "# 1. Buat dataset 1 juta data 5D\n",
        "# ===============================\n",
        "n_data = 1_000_000   # bisa coba 100_000 dulu jika RAM terbatas\n",
        "dim = 5\n",
        "X = np.random.random((n_data, dim)).astype(np.float32)\n",
        "\n",
        "# Query point\n",
        "query = np.random.random((1, dim)).astype(np.float32)\n",
        "k = 10\n",
        "\n",
        "# ===============================\n",
        "# 2. Annoy\n",
        "# ===============================\n",
        "print(\"=== Annoy ===\")\n",
        "ann_index = AnnoyIndex(dim, 'euclidean')\n",
        "\n",
        "start = time.time()\n",
        "for i in range(n_data):\n",
        "    ann_index.add_item(i, X[i])\n",
        "ann_index.build(10)  # 10 trees\n",
        "build_time = time.time() - start\n",
        "\n",
        "start = time.time()\n",
        "neighbors = ann_index.get_nns_by_vector(query[0], k, include_distances=True)\n",
        "query_time = time.time() - start\n",
        "\n",
        "print(\"Build time:\", build_time, \"detik\")\n",
        "print(\"Query time:\", query_time, \"detik\")\n",
        "print(\"Neighbors:\", neighbors[0][:5], \"...\")\n",
        "\n",
        "# ===============================\n",
        "# 3. FAISS (Flat Index)\n",
        "# ===============================\n",
        "print(\"\\n=== FAISS (IndexFlatL2) ===\")\n",
        "faiss_index = faiss.IndexFlatL2(dim)\n",
        "\n",
        "start = time.time()\n",
        "faiss_index.add(X)\n",
        "build_time = time.time() - start\n",
        "\n",
        "start = time.time()\n",
        "distances, indices = faiss_index.search(query, k)\n",
        "query_time = time.time() - start\n",
        "\n",
        "print(\"Build time:\", build_time, \"detik\")\n",
        "print(\"Query time:\", query_time, \"detik\")\n",
        "print(\"Neighbors:\", indices[0][:5], \"...\")\n",
        "\n",
        "# ===============================\n",
        "# 4. HNSW (hnswlib)\n",
        "# ===============================\n",
        "print(\"\\n=== HNSW (hnswlib) ===\")\n",
        "hnsw_index = hnswlib.Index(space='l2', dim=dim)\n",
        "\n",
        "start = time.time()\n",
        "hnsw_index.init_index(max_elements=n_data, ef_construction=200, M=16)\n",
        "hnsw_index.add_items(X)\n",
        "build_time = time.time() - start\n",
        "\n",
        "hnsw_index.set_ef(50)\n",
        "\n",
        "start = time.time()\n",
        "labels, distances = hnsw_index.knn_query(query, k=k)\n",
        "query_time = time.time() - start\n",
        "\n",
        "print(\"Build time:\", build_time, \"detik\")\n",
        "print(\"Query time:\", query_time, \"detik\")\n",
        "print(\"Neighbors:\", labels[0][:5], \"...\")\n"
      ],
      "metadata": {
        "colab": {
          "base_uri": "https://localhost:8080/"
        },
        "id": "twNj-H9yJnW9",
        "outputId": "4fd9ee27-bfc0-4530-859b-58b04e2ba0a3"
      },
      "execution_count": null,
      "outputs": [
        {
          "output_type": "stream",
          "name": "stdout",
          "text": [
            "=== Annoy ===\n",
            "Build time: 22.424330949783325 detik\n",
            "Query time: 0.0001823902130126953 detik\n",
            "Neighbors: [5346, 631396, 493004, 571642, 910181] ...\n",
            "\n",
            "=== FAISS (IndexFlatL2) ===\n",
            "Build time: 0.015057086944580078 detik\n",
            "Query time: 0.0063245296478271484 detik\n",
            "Neighbors: [  5346 631396 493004 571642 910181] ...\n",
            "\n",
            "=== HNSW (hnswlib) ===\n",
            "Build time: 158.73815393447876 detik\n",
            "Query time: 0.00025272369384765625 detik\n",
            "Neighbors: [  5346 631396 493004 571642 910181] ...\n"
          ]
        }
      ]
    },
    {
      "cell_type": "markdown",
      "source": [
        "# Pada Metrics Distance (Cosine)"
      ],
      "metadata": {
        "id": "c3YIeZ4eJqmh"
      }
    },
    {
      "cell_type": "code",
      "source": [
        "import numpy as np\n",
        "import time\n",
        "from annoy import AnnoyIndex\n",
        "import faiss\n",
        "import hnswlib\n",
        "\n",
        "# ===============================\n",
        "# 1. Buat dataset 1 juta data 5D\n",
        "# ===============================\n",
        "n_data = 1_000_000   # bisa coba 100_000 dulu jika RAM terbatas\n",
        "dim = 5\n",
        "X = np.random.random((n_data, dim)).astype(np.float32)\n",
        "\n",
        "# Query point\n",
        "query = np.random.random((1, dim)).astype(np.float32)\n",
        "k = 10\n",
        "\n",
        "# ===============================\n",
        "# 2. Annoy\n",
        "# ===============================\n",
        "print(\"=== Annoy ===\")\n",
        "ann_index = AnnoyIndex(dim, 'angular')\n",
        "\n",
        "start = time.time()\n",
        "for i in range(n_data):\n",
        "    ann_index.add_item(i, X[i])\n",
        "ann_index.build(10)  # 10 trees\n",
        "build_time = time.time() - start\n",
        "\n",
        "start = time.time()\n",
        "neighbors = ann_index.get_nns_by_vector(query[0], k, include_distances=True)\n",
        "query_time = time.time() - start\n",
        "\n",
        "print(\"Build time:\", build_time, \"detik\")\n",
        "print(\"Query time:\", query_time, \"detik\")\n",
        "print(\"Neighbors:\", neighbors[0][:5], \"...\")\n",
        "\n",
        "# ===============================\n",
        "# 3. FAISS (Flat Index)\n",
        "# ===============================\n",
        "print(\"\\n=== FAISS (IndexFlatIP) ===\")\n",
        "faiss_index = faiss.IndexFlatIP(dim)\n",
        "\n",
        "start = time.time()\n",
        "faiss_index.add(X)\n",
        "build_time = time.time() - start\n",
        "\n",
        "start = time.time()\n",
        "distances, indices = faiss_index.search(query, k)\n",
        "query_time = time.time() - start\n",
        "\n",
        "print(\"Build time:\", build_time, \"detik\")\n",
        "print(\"Query time:\", query_time, \"detik\")\n",
        "print(\"Neighbors:\", indices[0][:5], \"...\")\n",
        "\n",
        "# ===============================\n",
        "# 4. HNSW (hnswlib)\n",
        "# ===============================\n",
        "print(\"\\n=== HNSW (hnswlib) ===\")\n",
        "hnsw_index = hnswlib.Index(space='cosine', dim=dim)\n",
        "\n",
        "start = time.time()\n",
        "hnsw_index.init_index(max_elements=n_data, ef_construction=200, M=16)\n",
        "hnsw_index.add_items(X)\n",
        "build_time = time.time() - start\n",
        "\n",
        "hnsw_index.set_ef(50)\n",
        "\n",
        "start = time.time()\n",
        "labels, distances = hnsw_index.knn_query(query, k=k)\n",
        "query_time = time.time() - start\n",
        "\n",
        "print(\"Build time:\", build_time, \"detik\")\n",
        "print(\"Query time:\", query_time, \"detik\")\n",
        "print(\"Neighbors:\", labels[0][:5], \"...\")\n"
      ],
      "metadata": {
        "colab": {
          "base_uri": "https://localhost:8080/"
        },
        "id": "xw9rsajUJtAM",
        "outputId": "66bbb6ca-aa2f-41e7-a075-6319bf1f4198"
      },
      "execution_count": null,
      "outputs": [
        {
          "output_type": "stream",
          "name": "stdout",
          "text": [
            "=== Annoy ===\n",
            "Build time: 27.973755359649658 detik\n",
            "Query time: 0.00019431114196777344 detik\n",
            "Neighbors: [584168, 840790, 491377, 692004, 367849] ...\n",
            "\n",
            "=== FAISS (IndexFlatIP) ===\n",
            "Build time: 0.015943527221679688 detik\n",
            "Query time: 0.006714582443237305 detik\n",
            "Neighbors: [157284 210947 706502 803472 377728] ...\n",
            "\n",
            "=== HNSW (hnswlib) ===\n",
            "Build time: 148.02172875404358 detik\n",
            "Query time: 0.00022101402282714844 detik\n",
            "Neighbors: [584168 840790 491377 692004 367849] ...\n"
          ]
        }
      ]
    }
  ]
}